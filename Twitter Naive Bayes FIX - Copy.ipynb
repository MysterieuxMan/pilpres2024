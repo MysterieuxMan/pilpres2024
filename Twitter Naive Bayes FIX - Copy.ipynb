{
  "cells": [
    {
      "cell_type": "markdown",
      "metadata": {
        "id": "lAE7WPkQINAz"
      },
      "source": [
        "# Scrapping  Twitter Pemilu 2024 using tweet-harvers\n"
      ]
    },
    {
      "cell_type": "markdown",
      "metadata": {},
      "source": [
        "## Data Gathers Twitter"
      ]
    },
    {
      "cell_type": "code",
      "execution_count": 9,
      "metadata": {},
      "outputs": [
        {
          "name": "stdout",
          "output_type": "stream",
          "text": [
            "^C\n"
          ]
        }
      ],
      "source": [
        "!pip uninstall nltk"
      ]
    },
    {
      "cell_type": "code",
      "execution_count": 10,
      "metadata": {},
      "outputs": [
        {
          "name": "stdout",
          "output_type": "stream",
          "text": [
            "Requirement already satisfied: nltk in c:\\users\\asus.laptop-p9tbk6ts.000\\anaconda3\\lib\\site-packages (3.8.1)\n",
            "Requirement already satisfied: click in c:\\users\\asus.laptop-p9tbk6ts.000\\anaconda3\\lib\\site-packages (from nltk) (8.0.4)\n",
            "Requirement already satisfied: joblib in c:\\users\\asus.laptop-p9tbk6ts.000\\anaconda3\\lib\\site-packages (from nltk) (1.2.0)\n",
            "Requirement already satisfied: regex>=2021.8.3 in c:\\users\\asus.laptop-p9tbk6ts.000\\anaconda3\\lib\\site-packages (from nltk) (2022.7.9)\n",
            "Requirement already satisfied: tqdm in c:\\users\\asus.laptop-p9tbk6ts.000\\anaconda3\\lib\\site-packages (from nltk) (4.65.0)\n",
            "Requirement already satisfied: colorama in c:\\users\\asus.laptop-p9tbk6ts.000\\appdata\\roaming\\python\\python311\\site-packages (from click->nltk) (0.4.6)\n",
            "Note: you may need to restart the kernel to use updated packages.\n"
          ]
        }
      ],
      "source": [
        "%pip install nltk"
      ]
    },
    {
      "cell_type": "code",
      "execution_count": 4,
      "metadata": {
        "colab": {
          "base_uri": "https://localhost:8080/"
        },
        "collapsed": true,
        "id": "4UIL1x21P9rQ",
        "outputId": "ad8cd840-ff4d-4a47-f0a2-40602f819e7d"
      },
      "outputs": [],
      "source": [
        "# # Install Node.js (because tweet-harvest built using Node.js)\n",
        "# !sudo apt-get update\n",
        "# !sudo apt-get install -y ca-certificates curl gnupg\n",
        "# !sudo mkdir -p /etc/apt/keyrings\n",
        "# !curl -fsSL https://deb.nodesource.com/gpgkey/nodesource-repo.gpg.key | sudo gpg --dearmor -o /etc/apt/keyrings/nodesource.gpg\n",
        "\n",
        "# !NODE_MAJOR=20 && echo \"deb [signed-by=/etc/apt/keyrings/nodesource.gpg] https://deb.nodesource.com/node_$NODE_MAJOR.x nodistro main\" | sudo tee /etc/apt/sources.list.d/nodesource.list\n",
        "\n",
        "# !sudo apt-get update\n",
        "# !sudo apt-get install nodejs -y\n",
        "\n",
        "# !node -v"
      ]
    },
    {
      "cell_type": "code",
      "execution_count": 5,
      "metadata": {
        "colab": {
          "base_uri": "https://localhost:8080/"
        },
        "id": "LYDR51dJlVlX",
        "outputId": "a948dacf-9766-4e3b-f901-6693fd0e8ca2"
      },
      "outputs": [],
      "source": [
        "# # Crawl Data\n",
        "\n",
        "# filename = 'pemilu.csv'\n",
        "# search_keyword = '#DebatCapres until:2024-01-08 since:2024-01-06'\n",
        "# limit = 3000\n",
        "\n",
        "# !npx --yes tweet-harvest@2.2.8 -o \"{filename}\" -s \"{search_keyword}\" -l {limit} --token \"\""
      ]
    },
    {
      "cell_type": "markdown",
      "metadata": {},
      "source": [
        "## Import Library"
      ]
    },
    {
      "cell_type": "code",
      "execution_count": 12,
      "metadata": {
        "colab": {
          "base_uri": "https://localhost:8080/"
        },
        "id": "IicyXBVj8y14",
        "outputId": "d597ed35-324e-44e1-d46a-63c28b6aa442"
      },
      "outputs": [
        {
          "ename": "AttributeError",
          "evalue": "partially initialized module 'nltk' has no attribute 'data' (most likely due to a circular import)",
          "output_type": "error",
          "traceback": [
            "\u001b[1;31m---------------------------------------------------------------------------\u001b[0m",
            "\u001b[1;31mAttributeError\u001b[0m                            Traceback (most recent call last)",
            "\u001b[1;32mc:\\Users\\asus.LAPTOP-P9TBK6TS.000\\OneDrive - Bina Nusantara\\SKRIPSI\\Code\\Twitter Naive Bayes FIX - Copy.ipynb Cell 8\u001b[0m line \u001b[0;36m2\n\u001b[0;32m      <a href='vscode-notebook-cell:/c%3A/Users/asus.LAPTOP-P9TBK6TS.000/OneDrive%20-%20Bina%20Nusantara/SKRIPSI/Code/Twitter%20Naive%20Bayes%20FIX%20-%20Copy.ipynb#W5sZmlsZQ%3D%3D?line=0'>1</a>\u001b[0m \u001b[39mimport\u001b[39;00m \u001b[39mpandas\u001b[39;00m \u001b[39mas\u001b[39;00m \u001b[39mpd\u001b[39;00m\n\u001b[1;32m----> <a href='vscode-notebook-cell:/c%3A/Users/asus.LAPTOP-P9TBK6TS.000/OneDrive%20-%20Bina%20Nusantara/SKRIPSI/Code/Twitter%20Naive%20Bayes%20FIX%20-%20Copy.ipynb#W5sZmlsZQ%3D%3D?line=1'>2</a>\u001b[0m \u001b[39mimport\u001b[39;00m \u001b[39mnltk\u001b[39;00m\u001b[39m,\u001b[39m \u001b[39mre\u001b[39;00m\u001b[39m,\u001b[39m \u001b[39mstring\u001b[39;00m\n\u001b[0;32m      <a href='vscode-notebook-cell:/c%3A/Users/asus.LAPTOP-P9TBK6TS.000/OneDrive%20-%20Bina%20Nusantara/SKRIPSI/Code/Twitter%20Naive%20Bayes%20FIX%20-%20Copy.ipynb#W5sZmlsZQ%3D%3D?line=3'>4</a>\u001b[0m \u001b[39mimport\u001b[39;00m \u001b[39mtensorflow\u001b[39;00m \u001b[39mas\u001b[39;00m \u001b[39mtf\u001b[39;00m\n\u001b[0;32m      <a href='vscode-notebook-cell:/c%3A/Users/asus.LAPTOP-P9TBK6TS.000/OneDrive%20-%20Bina%20Nusantara/SKRIPSI/Code/Twitter%20Naive%20Bayes%20FIX%20-%20Copy.ipynb#W5sZmlsZQ%3D%3D?line=4'>5</a>\u001b[0m \u001b[39mfrom\u001b[39;00m \u001b[39mtensorflow\u001b[39;00m\u001b[39m.\u001b[39;00m\u001b[39mkeras\u001b[39;00m\u001b[39m.\u001b[39;00m\u001b[39mpreprocessing\u001b[39;00m\u001b[39m.\u001b[39;00m\u001b[39mtext\u001b[39;00m \u001b[39mimport\u001b[39;00m Tokenizer\n",
            "File \u001b[1;32mc:\\Users\\asus.LAPTOP-P9TBK6TS.000\\anaconda3\\Lib\\site-packages\\nltk\\__init__.py:153\u001b[0m\n\u001b[0;32m    151\u001b[0m \u001b[39mfrom\u001b[39;00m \u001b[39mnltk\u001b[39;00m\u001b[39m.\u001b[39;00m\u001b[39mtag\u001b[39;00m \u001b[39mimport\u001b[39;00m \u001b[39m*\u001b[39m\n\u001b[0;32m    152\u001b[0m \u001b[39mfrom\u001b[39;00m \u001b[39mnltk\u001b[39;00m\u001b[39m.\u001b[39;00m\u001b[39mtokenize\u001b[39;00m \u001b[39mimport\u001b[39;00m \u001b[39m*\u001b[39m\n\u001b[1;32m--> 153\u001b[0m \u001b[39mfrom\u001b[39;00m \u001b[39mnltk\u001b[39;00m\u001b[39m.\u001b[39;00m\u001b[39mtranslate\u001b[39;00m \u001b[39mimport\u001b[39;00m \u001b[39m*\u001b[39m\n\u001b[0;32m    154\u001b[0m \u001b[39mfrom\u001b[39;00m \u001b[39mnltk\u001b[39;00m\u001b[39m.\u001b[39;00m\u001b[39mtree\u001b[39;00m \u001b[39mimport\u001b[39;00m \u001b[39m*\u001b[39m\n\u001b[0;32m    155\u001b[0m \u001b[39mfrom\u001b[39;00m \u001b[39mnltk\u001b[39;00m\u001b[39m.\u001b[39;00m\u001b[39msem\u001b[39;00m \u001b[39mimport\u001b[39;00m \u001b[39m*\u001b[39m\n",
            "File \u001b[1;32mc:\\Users\\asus.LAPTOP-P9TBK6TS.000\\anaconda3\\Lib\\site-packages\\nltk\\translate\\__init__.py:24\u001b[0m\n\u001b[0;32m     22\u001b[0m \u001b[39mfrom\u001b[39;00m \u001b[39mnltk\u001b[39;00m\u001b[39m.\u001b[39;00m\u001b[39mtranslate\u001b[39;00m\u001b[39m.\u001b[39;00m\u001b[39mbleu_score\u001b[39;00m \u001b[39mimport\u001b[39;00m sentence_bleu \u001b[39mas\u001b[39;00m bleu\n\u001b[0;32m     23\u001b[0m \u001b[39mfrom\u001b[39;00m \u001b[39mnltk\u001b[39;00m\u001b[39m.\u001b[39;00m\u001b[39mtranslate\u001b[39;00m\u001b[39m.\u001b[39;00m\u001b[39mribes_score\u001b[39;00m \u001b[39mimport\u001b[39;00m sentence_ribes \u001b[39mas\u001b[39;00m ribes\n\u001b[1;32m---> 24\u001b[0m \u001b[39mfrom\u001b[39;00m \u001b[39mnltk\u001b[39;00m\u001b[39m.\u001b[39;00m\u001b[39mtranslate\u001b[39;00m\u001b[39m.\u001b[39;00m\u001b[39mmeteor_score\u001b[39;00m \u001b[39mimport\u001b[39;00m meteor_score \u001b[39mas\u001b[39;00m meteor\n\u001b[0;32m     25\u001b[0m \u001b[39mfrom\u001b[39;00m \u001b[39mnltk\u001b[39;00m\u001b[39m.\u001b[39;00m\u001b[39mtranslate\u001b[39;00m\u001b[39m.\u001b[39;00m\u001b[39mmetrics\u001b[39;00m \u001b[39mimport\u001b[39;00m alignment_error_rate\n\u001b[0;32m     26\u001b[0m \u001b[39mfrom\u001b[39;00m \u001b[39mnltk\u001b[39;00m\u001b[39m.\u001b[39;00m\u001b[39mtranslate\u001b[39;00m\u001b[39m.\u001b[39;00m\u001b[39mstack_decoder\u001b[39;00m \u001b[39mimport\u001b[39;00m StackDecoder\n",
            "File \u001b[1;32mc:\\Users\\asus.LAPTOP-P9TBK6TS.000\\anaconda3\\Lib\\site-packages\\nltk\\translate\\meteor_score.py:13\u001b[0m\n\u001b[0;32m     10\u001b[0m \u001b[39mfrom\u001b[39;00m \u001b[39mitertools\u001b[39;00m \u001b[39mimport\u001b[39;00m chain, product\n\u001b[0;32m     11\u001b[0m \u001b[39mfrom\u001b[39;00m \u001b[39mtyping\u001b[39;00m \u001b[39mimport\u001b[39;00m Callable, Iterable, List, Tuple\n\u001b[1;32m---> 13\u001b[0m \u001b[39mfrom\u001b[39;00m \u001b[39mnltk\u001b[39;00m\u001b[39m.\u001b[39;00m\u001b[39mcorpus\u001b[39;00m \u001b[39mimport\u001b[39;00m WordNetCorpusReader, wordnet\n\u001b[0;32m     14\u001b[0m \u001b[39mfrom\u001b[39;00m \u001b[39mnltk\u001b[39;00m\u001b[39m.\u001b[39;00m\u001b[39mstem\u001b[39;00m\u001b[39m.\u001b[39;00m\u001b[39mapi\u001b[39;00m \u001b[39mimport\u001b[39;00m StemmerI\n\u001b[0;32m     15\u001b[0m \u001b[39mfrom\u001b[39;00m \u001b[39mnltk\u001b[39;00m\u001b[39m.\u001b[39;00m\u001b[39mstem\u001b[39;00m\u001b[39m.\u001b[39;00m\u001b[39mporter\u001b[39;00m \u001b[39mimport\u001b[39;00m PorterStemmer\n",
            "File \u001b[1;32mc:\\Users\\asus.LAPTOP-P9TBK6TS.000\\anaconda3\\Lib\\site-packages\\nltk\\corpus\\__init__.py:64\u001b[0m\n\u001b[0;32m      9\u001b[0m \u001b[39m\"\"\"\u001b[39;00m\n\u001b[0;32m     10\u001b[0m \u001b[39mNLTK corpus readers.  The modules in this package provide functions\u001b[39;00m\n\u001b[0;32m     11\u001b[0m \u001b[39mthat can be used to read corpus files in a variety of formats.  These\u001b[39;00m\n\u001b[1;32m   (...)\u001b[0m\n\u001b[0;32m     59\u001b[0m \n\u001b[0;32m     60\u001b[0m \u001b[39m\"\"\"\u001b[39;00m\n\u001b[0;32m     62\u001b[0m \u001b[39mimport\u001b[39;00m \u001b[39mre\u001b[39;00m\n\u001b[1;32m---> 64\u001b[0m \u001b[39mfrom\u001b[39;00m \u001b[39mnltk\u001b[39;00m\u001b[39m.\u001b[39;00m\u001b[39mcorpus\u001b[39;00m\u001b[39m.\u001b[39;00m\u001b[39mreader\u001b[39;00m \u001b[39mimport\u001b[39;00m \u001b[39m*\u001b[39m\n\u001b[0;32m     65\u001b[0m \u001b[39mfrom\u001b[39;00m \u001b[39mnltk\u001b[39;00m\u001b[39m.\u001b[39;00m\u001b[39mcorpus\u001b[39;00m\u001b[39m.\u001b[39;00m\u001b[39mutil\u001b[39;00m \u001b[39mimport\u001b[39;00m LazyCorpusLoader\n\u001b[0;32m     66\u001b[0m \u001b[39mfrom\u001b[39;00m \u001b[39mnltk\u001b[39;00m\u001b[39m.\u001b[39;00m\u001b[39mtokenize\u001b[39;00m \u001b[39mimport\u001b[39;00m RegexpTokenizer\n",
            "File \u001b[1;32mc:\\Users\\asus.LAPTOP-P9TBK6TS.000\\anaconda3\\Lib\\site-packages\\nltk\\corpus\\reader\\__init__.py:57\u001b[0m\n\u001b[0;32m      1\u001b[0m \u001b[39m# Natural Language Toolkit: Corpus Readers\u001b[39;00m\n\u001b[0;32m      2\u001b[0m \u001b[39m#\u001b[39;00m\n\u001b[0;32m      3\u001b[0m \u001b[39m# Copyright (C) 2001-2023 NLTK Project\u001b[39;00m\n\u001b[1;32m   (...)\u001b[0m\n\u001b[0;32m      6\u001b[0m \u001b[39m# URL: <https://www.nltk.org/>\u001b[39;00m\n\u001b[0;32m      7\u001b[0m \u001b[39m# For license information, see LICENSE.TXT\u001b[39;00m\n\u001b[0;32m      9\u001b[0m \u001b[39m\"\"\"\u001b[39;00m\n\u001b[0;32m     10\u001b[0m \u001b[39mNLTK corpus readers.  The modules in this package provide functions\u001b[39;00m\n\u001b[0;32m     11\u001b[0m \u001b[39mthat can be used to read corpus fileids in a variety of formats.  These\u001b[39;00m\n\u001b[1;32m   (...)\u001b[0m\n\u001b[0;32m     54\u001b[0m \u001b[39misort:skip_file\u001b[39;00m\n\u001b[0;32m     55\u001b[0m \u001b[39m\"\"\"\u001b[39;00m\n\u001b[1;32m---> 57\u001b[0m \u001b[39mfrom\u001b[39;00m \u001b[39mnltk\u001b[39;00m\u001b[39m.\u001b[39;00m\u001b[39mcorpus\u001b[39;00m\u001b[39m.\u001b[39;00m\u001b[39mreader\u001b[39;00m\u001b[39m.\u001b[39;00m\u001b[39mplaintext\u001b[39;00m \u001b[39mimport\u001b[39;00m \u001b[39m*\u001b[39m\n\u001b[0;32m     58\u001b[0m \u001b[39mfrom\u001b[39;00m \u001b[39mnltk\u001b[39;00m\u001b[39m.\u001b[39;00m\u001b[39mcorpus\u001b[39;00m\u001b[39m.\u001b[39;00m\u001b[39mreader\u001b[39;00m\u001b[39m.\u001b[39;00m\u001b[39mutil\u001b[39;00m \u001b[39mimport\u001b[39;00m \u001b[39m*\u001b[39m\n\u001b[0;32m     59\u001b[0m \u001b[39mfrom\u001b[39;00m \u001b[39mnltk\u001b[39;00m\u001b[39m.\u001b[39;00m\u001b[39mcorpus\u001b[39;00m\u001b[39m.\u001b[39;00m\u001b[39mreader\u001b[39;00m\u001b[39m.\u001b[39;00m\u001b[39mapi\u001b[39;00m \u001b[39mimport\u001b[39;00m \u001b[39m*\u001b[39m\n",
            "File \u001b[1;32mc:\\Users\\asus.LAPTOP-P9TBK6TS.000\\anaconda3\\Lib\\site-packages\\nltk\\corpus\\reader\\plaintext.py:20\u001b[0m\n\u001b[0;32m     16\u001b[0m \u001b[39mfrom\u001b[39;00m \u001b[39mnltk\u001b[39;00m\u001b[39m.\u001b[39;00m\u001b[39mcorpus\u001b[39;00m\u001b[39m.\u001b[39;00m\u001b[39mreader\u001b[39;00m\u001b[39m.\u001b[39;00m\u001b[39mutil\u001b[39;00m \u001b[39mimport\u001b[39;00m \u001b[39m*\u001b[39m\n\u001b[0;32m     17\u001b[0m \u001b[39mfrom\u001b[39;00m \u001b[39mnltk\u001b[39;00m\u001b[39m.\u001b[39;00m\u001b[39mtokenize\u001b[39;00m \u001b[39mimport\u001b[39;00m \u001b[39m*\u001b[39m\n\u001b[1;32m---> 20\u001b[0m \u001b[39mclass\u001b[39;49;00m \u001b[39mPlaintextCorpusReader\u001b[39;49;00m(CorpusReader):\n\u001b[0;32m     21\u001b[0m \u001b[39m    \u001b[39;49m\u001b[39m\"\"\"\u001b[39;49;00m\n\u001b[0;32m     22\u001b[0m \u001b[39m    Reader for corpora that consist of plaintext documents.  Paragraphs\u001b[39;49;00m\n\u001b[0;32m     23\u001b[0m \u001b[39m    are assumed to be split using blank lines.  Sentences and words can\u001b[39;49;00m\n\u001b[1;32m   (...)\u001b[0m\n\u001b[0;32m     29\u001b[0m \u001b[39m    overriding the ``CorpusView`` class variable.\u001b[39;49;00m\n\u001b[0;32m     30\u001b[0m \u001b[39m    \"\"\"\u001b[39;49;00m\n\u001b[0;32m     32\u001b[0m     CorpusView \u001b[39m=\u001b[39;49m StreamBackedCorpusView\n",
            "File \u001b[1;32mc:\\Users\\asus.LAPTOP-P9TBK6TS.000\\anaconda3\\Lib\\site-packages\\nltk\\corpus\\reader\\plaintext.py:42\u001b[0m, in \u001b[0;36mPlaintextCorpusReader\u001b[1;34m()\u001b[0m\n\u001b[0;32m     32\u001b[0m CorpusView \u001b[39m=\u001b[39m StreamBackedCorpusView\n\u001b[0;32m     33\u001b[0m \u001b[39m\u001b[39m\u001b[39m\"\"\"The corpus view class used by this reader.  Subclasses of\u001b[39;00m\n\u001b[0;32m     34\u001b[0m \u001b[39m   ``PlaintextCorpusReader`` may specify alternative corpus view\u001b[39;00m\n\u001b[0;32m     35\u001b[0m \u001b[39m   classes (e.g., to skip the preface sections of documents.)\"\"\"\u001b[39;00m\n\u001b[0;32m     37\u001b[0m \u001b[39mdef\u001b[39;00m \u001b[39m__init__\u001b[39m(\n\u001b[0;32m     38\u001b[0m     \u001b[39mself\u001b[39m,\n\u001b[0;32m     39\u001b[0m     root,\n\u001b[0;32m     40\u001b[0m     fileids,\n\u001b[0;32m     41\u001b[0m     word_tokenizer\u001b[39m=\u001b[39mWordPunctTokenizer(),\n\u001b[1;32m---> 42\u001b[0m     sent_tokenizer\u001b[39m=\u001b[39mnltk\u001b[39m.\u001b[39;49mdata\u001b[39m.\u001b[39mLazyLoader(\u001b[39m\"\u001b[39m\u001b[39mtokenizers/punkt/english.pickle\u001b[39m\u001b[39m\"\u001b[39m),\n\u001b[0;32m     43\u001b[0m     para_block_reader\u001b[39m=\u001b[39mread_blankline_block,\n\u001b[0;32m     44\u001b[0m     encoding\u001b[39m=\u001b[39m\u001b[39m\"\u001b[39m\u001b[39mutf8\u001b[39m\u001b[39m\"\u001b[39m,\n\u001b[0;32m     45\u001b[0m ):\n\u001b[0;32m     46\u001b[0m \u001b[39m    \u001b[39m\u001b[39mr\u001b[39m\u001b[39m\"\"\"\u001b[39;00m\n\u001b[0;32m     47\u001b[0m \u001b[39m    Construct a new plaintext corpus reader for a set of documents\u001b[39;00m\n\u001b[0;32m     48\u001b[0m \u001b[39m    located at the given root directory.  Example usage:\u001b[39;00m\n\u001b[1;32m   (...)\u001b[0m\n\u001b[0;32m     60\u001b[0m \u001b[39m        corpus into paragraph blocks.\u001b[39;00m\n\u001b[0;32m     61\u001b[0m \u001b[39m    \"\"\"\u001b[39;00m\n\u001b[0;32m     62\u001b[0m     CorpusReader\u001b[39m.\u001b[39m\u001b[39m__init__\u001b[39m(\u001b[39mself\u001b[39m, root, fileids, encoding)\n",
            "\u001b[1;31mAttributeError\u001b[0m: partially initialized module 'nltk' has no attribute 'data' (most likely due to a circular import)"
          ]
        }
      ],
      "source": [
        "import pandas as pd\n",
        "import nltk, re, string\n",
        "\n",
        "import tensorflow as tf\n",
        "from tensorflow.keras.preprocessing.text import Tokenizer\n",
        "from tensorflow.keras.preprocessing.sequence import pad_sequences\n",
        "\n",
        "from sklearn import naive_bayes\n",
        "\n",
        "from sklearn.metrics import accuracy_score, confusion_matrix, f1_score, classification_report\n",
        "from sklearn.feature_extraction.text import TfidfVectorizer\n",
        "from sklearn.preprocessing import LabelEncoder\n",
        "\n",
        "from nltk.corpus import stopwords\n",
        "from nltk.corpus import wordnet as wn\n",
        "\n",
        "from nlp_id.lemmatizer import Lemmatizer\n",
        "\n",
        "from langdetect import detect\n",
        "\n",
        "from sklearn.model_selection import train_test_split\n",
        "\n",
        "import matplotlib.pyplot as plt\n",
        "\n",
        "nltk.download('wordnet')\n",
        "nltk.download('stopwords')\n",
        "nltk.download('punkt')\n",
        "nltk.download('averaged_perceptron_tagger')"
      ]
    },
    {
      "cell_type": "markdown",
      "metadata": {},
      "source": [
        "## Load Dataset"
      ]
    },
    {
      "cell_type": "code",
      "execution_count": null,
      "metadata": {
        "colab": {
          "base_uri": "https://localhost:8080/",
          "height": 1000
        },
        "collapsed": true,
        "id": "HvAG3hPvQDqk",
        "outputId": "f6ef9561-3efc-46ee-cbb4-9c54dabeab78"
      },
      "outputs": [
        {
          "data": {
            "text/html": [
              "<div>\n",
              "<style scoped>\n",
              "    .dataframe tbody tr th:only-of-type {\n",
              "        vertical-align: middle;\n",
              "    }\n",
              "\n",
              "    .dataframe tbody tr th {\n",
              "        vertical-align: top;\n",
              "    }\n",
              "\n",
              "    .dataframe thead th {\n",
              "        text-align: right;\n",
              "    }\n",
              "</style>\n",
              "<table border=\"1\" class=\"dataframe\">\n",
              "  <thead>\n",
              "    <tr style=\"text-align: right;\">\n",
              "      <th></th>\n",
              "      <th>conversation_id_str</th>\n",
              "      <th>created_at</th>\n",
              "      <th>favorite_count</th>\n",
              "      <th>full_text</th>\n",
              "      <th>id_str</th>\n",
              "      <th>image_url</th>\n",
              "      <th>in_reply_to_screen_name</th>\n",
              "      <th>lang</th>\n",
              "      <th>location</th>\n",
              "      <th>quote_count</th>\n",
              "      <th>reply_count</th>\n",
              "      <th>retweet_count</th>\n",
              "      <th>tweet_url</th>\n",
              "      <th>user_id_str</th>\n",
              "      <th>username</th>\n",
              "    </tr>\n",
              "  </thead>\n",
              "  <tbody>\n",
              "    <tr>\n",
              "      <th>0</th>\n",
              "      <td>1.758140e+18</td>\n",
              "      <td>Thu Feb 15 14:45:30 +0000 2024</td>\n",
              "      <td>7</td>\n",
              "      <td>Caleg Sistem Paylater Yang Penting DP Dulu... ...</td>\n",
              "      <td>1.758140e+18</td>\n",
              "      <td>https://pbs.twimg.com/media/GGYrc6ubYAAJa8w.jpg</td>\n",
              "      <td>NaN</td>\n",
              "      <td>in</td>\n",
              "      <td>DKI Jakarta, Indonesia</td>\n",
              "      <td>2</td>\n",
              "      <td>2</td>\n",
              "      <td>2</td>\n",
              "      <td>https://x.com/AchmadAnnama/status/175814048325...</td>\n",
              "      <td>1.196081e+08</td>\n",
              "      <td>AchmadAnnama</td>\n",
              "    </tr>\n",
              "    <tr>\n",
              "      <th>1</th>\n",
              "      <td>1.758140e+18</td>\n",
              "      <td>Thu Feb 15 14:51:22 +0000 2024</td>\n",
              "      <td>94</td>\n",
              "      <td>Anies menegaskan misi yang besar itu ialah mem...</td>\n",
              "      <td>1.758140e+18</td>\n",
              "      <td>https://pbs.twimg.com/ext_tw_video_thumb/17581...</td>\n",
              "      <td>NaN</td>\n",
              "      <td>in</td>\n",
              "      <td>Jakarta, Indonesia</td>\n",
              "      <td>1</td>\n",
              "      <td>5</td>\n",
              "      <td>23</td>\n",
              "      <td>https://x.com/republikaonline/status/175814195...</td>\n",
              "      <td>2.212690e+07</td>\n",
              "      <td>republikaonline</td>\n",
              "    </tr>\n",
              "    <tr>\n",
              "      <th>2</th>\n",
              "      <td>1.758100e+18</td>\n",
              "      <td>Thu Feb 15 12:00:02 +0000 2024</td>\n",
              "      <td>0</td>\n",
              "      <td>Link dan cara cek real count pemilu 2024 resmi...</td>\n",
              "      <td>1.758100e+18</td>\n",
              "      <td>https://pbs.twimg.com/amplify_video_thumb/1758...</td>\n",
              "      <td>NaN</td>\n",
              "      <td>in</td>\n",
              "      <td>Jakarta Capital Region, Indone</td>\n",
              "      <td>0</td>\n",
              "      <td>0</td>\n",
              "      <td>0</td>\n",
              "      <td>https://x.com/medcom_id/status/175809884275753...</td>\n",
              "      <td>9.028380e+17</td>\n",
              "      <td>medcom_id</td>\n",
              "    </tr>\n",
              "    <tr>\n",
              "      <th>3</th>\n",
              "      <td>1.758110e+18</td>\n",
              "      <td>Thu Feb 15 13:00:02 +0000 2024</td>\n",
              "      <td>0</td>\n",
              "      <td>Investasinya selama ini gimana nih Pak Hary Ta...</td>\n",
              "      <td>1.758110e+18</td>\n",
              "      <td>https://pbs.twimg.com/media/GGXRfTVakAAzrXr.jpg</td>\n",
              "      <td>NaN</td>\n",
              "      <td>in</td>\n",
              "      <td>Jakarta, Indonesia</td>\n",
              "      <td>0</td>\n",
              "      <td>1</td>\n",
              "      <td>0</td>\n",
              "      <td>https://x.com/pinterpolitik/status/17581139412...</td>\n",
              "      <td>7.987710e+17</td>\n",
              "      <td>pinterpolitik</td>\n",
              "    </tr>\n",
              "    <tr>\n",
              "      <th>4</th>\n",
              "      <td>1.758110e+18</td>\n",
              "      <td>Thu Feb 15 13:00:01 +0000 2024</td>\n",
              "      <td>0</td>\n",
              "      <td>KPU sebut 668 TPS berpotensi melakukan pemungu...</td>\n",
              "      <td>1.758110e+18</td>\n",
              "      <td>https://pbs.twimg.com/amplify_video_thumb/1758...</td>\n",
              "      <td>NaN</td>\n",
              "      <td>in</td>\n",
              "      <td>Jakarta Capital Region, Indone</td>\n",
              "      <td>0</td>\n",
              "      <td>0</td>\n",
              "      <td>1</td>\n",
              "      <td>https://x.com/medcom_id/status/175811393662737...</td>\n",
              "      <td>9.028380e+17</td>\n",
              "      <td>medcom_id</td>\n",
              "    </tr>\n",
              "    <tr>\n",
              "      <th>...</th>\n",
              "      <td>...</td>\n",
              "      <td>...</td>\n",
              "      <td>...</td>\n",
              "      <td>...</td>\n",
              "      <td>...</td>\n",
              "      <td>...</td>\n",
              "      <td>...</td>\n",
              "      <td>...</td>\n",
              "      <td>...</td>\n",
              "      <td>...</td>\n",
              "      <td>...</td>\n",
              "      <td>...</td>\n",
              "      <td>...</td>\n",
              "      <td>...</td>\n",
              "      <td>...</td>\n",
              "    </tr>\n",
              "    <tr>\n",
              "      <th>2078</th>\n",
              "      <td>1.795590e+18</td>\n",
              "      <td>Tue May 28 22:37:33 +0000 2024</td>\n",
              "      <td>0</td>\n",
              "      <td>Dari 18 partai politik peserta Pemilu 2024 han...</td>\n",
              "      <td>1.795590e+18</td>\n",
              "      <td>NaN</td>\n",
              "      <td>NaN</td>\n",
              "      <td>in</td>\n",
              "      <td>Jakarta</td>\n",
              "      <td>0</td>\n",
              "      <td>1</td>\n",
              "      <td>0</td>\n",
              "      <td>https://x.com/kompascom/status/179558523007156...</td>\n",
              "      <td>2.334396e+07</td>\n",
              "      <td>kompascom</td>\n",
              "    </tr>\n",
              "    <tr>\n",
              "      <th>2079</th>\n",
              "      <td>1.796450e+18</td>\n",
              "      <td>Fri May 31 07:41:14 +0000 2024</td>\n",
              "      <td>2</td>\n",
              "      <td>Kursi Partai di DPRD Sumatera Utara Hasil Pemi...</td>\n",
              "      <td>1.796450e+18</td>\n",
              "      <td>NaN</td>\n",
              "      <td>NaN</td>\n",
              "      <td>in</td>\n",
              "      <td>NaN</td>\n",
              "      <td>1</td>\n",
              "      <td>0</td>\n",
              "      <td>0</td>\n",
              "      <td>https://x.com/CNNIndonesia/status/179644682794...</td>\n",
              "      <td>1.712898e+07</td>\n",
              "      <td>CNNIndonesia</td>\n",
              "    </tr>\n",
              "    <tr>\n",
              "      <th>2080</th>\n",
              "      <td>1.796010e+18</td>\n",
              "      <td>Thu May 30 02:29:50 +0000 2024</td>\n",
              "      <td>4</td>\n",
              "      <td>Anggota Parlemen Israel Sebut Netanyahu Gagal ...</td>\n",
              "      <td>1.796010e+18</td>\n",
              "      <td>NaN</td>\n",
              "      <td>NaN</td>\n",
              "      <td>in</td>\n",
              "      <td>Kota Surabaya, Jawa Timur</td>\n",
              "      <td>0</td>\n",
              "      <td>1</td>\n",
              "      <td>3</td>\n",
              "      <td>https://x.com/e100ss/status/1796006072702136733</td>\n",
              "      <td>8.486146e+08</td>\n",
              "      <td>e100ss</td>\n",
              "    </tr>\n",
              "    <tr>\n",
              "      <th>2081</th>\n",
              "      <td>1.795010e+18</td>\n",
              "      <td>Mon May 27 08:12:06 +0000 2024</td>\n",
              "      <td>2</td>\n",
              "      <td>Aswanto mengungkapkan bahwa seseorang mesti me...</td>\n",
              "      <td>1.795010e+18</td>\n",
              "      <td>NaN</td>\n",
              "      <td>NaN</td>\n",
              "      <td>in</td>\n",
              "      <td>Jakarta</td>\n",
              "      <td>0</td>\n",
              "      <td>0</td>\n",
              "      <td>0</td>\n",
              "      <td>https://x.com/kompascom/status/179500504371398...</td>\n",
              "      <td>2.334396e+07</td>\n",
              "      <td>kompascom</td>\n",
              "    </tr>\n",
              "    <tr>\n",
              "      <th>2082</th>\n",
              "      <td>1.796500e+18</td>\n",
              "      <td>Fri May 31 11:18:08 +0000 2024</td>\n",
              "      <td>1</td>\n",
              "      <td>Dorong Zulhas Pimpin Lagi PAN Pasha: Kepiawaia...</td>\n",
              "      <td>1.796500e+18</td>\n",
              "      <td>NaN</td>\n",
              "      <td>NaN</td>\n",
              "      <td>in</td>\n",
              "      <td>NaN</td>\n",
              "      <td>0</td>\n",
              "      <td>0</td>\n",
              "      <td>0</td>\n",
              "      <td>https://x.com/VIVAcoid/status/1796501410684747856</td>\n",
              "      <td>4.173094e+07</td>\n",
              "      <td>VIVAcoid</td>\n",
              "    </tr>\n",
              "  </tbody>\n",
              "</table>\n",
              "<p>2083 rows × 15 columns</p>\n",
              "</div>"
            ],
            "text/plain": [
              "      conversation_id_str                      created_at  favorite_count  \\\n",
              "0            1.758140e+18  Thu Feb 15 14:45:30 +0000 2024               7   \n",
              "1            1.758140e+18  Thu Feb 15 14:51:22 +0000 2024              94   \n",
              "2            1.758100e+18  Thu Feb 15 12:00:02 +0000 2024               0   \n",
              "3            1.758110e+18  Thu Feb 15 13:00:02 +0000 2024               0   \n",
              "4            1.758110e+18  Thu Feb 15 13:00:01 +0000 2024               0   \n",
              "...                   ...                             ...             ...   \n",
              "2078         1.795590e+18  Tue May 28 22:37:33 +0000 2024               0   \n",
              "2079         1.796450e+18  Fri May 31 07:41:14 +0000 2024               2   \n",
              "2080         1.796010e+18  Thu May 30 02:29:50 +0000 2024               4   \n",
              "2081         1.795010e+18  Mon May 27 08:12:06 +0000 2024               2   \n",
              "2082         1.796500e+18  Fri May 31 11:18:08 +0000 2024               1   \n",
              "\n",
              "                                              full_text        id_str  \\\n",
              "0     Caleg Sistem Paylater Yang Penting DP Dulu... ...  1.758140e+18   \n",
              "1     Anies menegaskan misi yang besar itu ialah mem...  1.758140e+18   \n",
              "2     Link dan cara cek real count pemilu 2024 resmi...  1.758100e+18   \n",
              "3     Investasinya selama ini gimana nih Pak Hary Ta...  1.758110e+18   \n",
              "4     KPU sebut 668 TPS berpotensi melakukan pemungu...  1.758110e+18   \n",
              "...                                                 ...           ...   \n",
              "2078  Dari 18 partai politik peserta Pemilu 2024 han...  1.795590e+18   \n",
              "2079  Kursi Partai di DPRD Sumatera Utara Hasil Pemi...  1.796450e+18   \n",
              "2080  Anggota Parlemen Israel Sebut Netanyahu Gagal ...  1.796010e+18   \n",
              "2081  Aswanto mengungkapkan bahwa seseorang mesti me...  1.795010e+18   \n",
              "2082  Dorong Zulhas Pimpin Lagi PAN Pasha: Kepiawaia...  1.796500e+18   \n",
              "\n",
              "                                              image_url  \\\n",
              "0       https://pbs.twimg.com/media/GGYrc6ubYAAJa8w.jpg   \n",
              "1     https://pbs.twimg.com/ext_tw_video_thumb/17581...   \n",
              "2     https://pbs.twimg.com/amplify_video_thumb/1758...   \n",
              "3       https://pbs.twimg.com/media/GGXRfTVakAAzrXr.jpg   \n",
              "4     https://pbs.twimg.com/amplify_video_thumb/1758...   \n",
              "...                                                 ...   \n",
              "2078                                                NaN   \n",
              "2079                                                NaN   \n",
              "2080                                                NaN   \n",
              "2081                                                NaN   \n",
              "2082                                                NaN   \n",
              "\n",
              "     in_reply_to_screen_name lang                        location  \\\n",
              "0                        NaN   in          DKI Jakarta, Indonesia   \n",
              "1                        NaN   in              Jakarta, Indonesia   \n",
              "2                        NaN   in  Jakarta Capital Region, Indone   \n",
              "3                        NaN   in              Jakarta, Indonesia   \n",
              "4                        NaN   in  Jakarta Capital Region, Indone   \n",
              "...                      ...  ...                             ...   \n",
              "2078                     NaN   in                         Jakarta   \n",
              "2079                     NaN   in                             NaN   \n",
              "2080                     NaN   in       Kota Surabaya, Jawa Timur   \n",
              "2081                     NaN   in                         Jakarta   \n",
              "2082                     NaN   in                             NaN   \n",
              "\n",
              "      quote_count  reply_count  retweet_count  \\\n",
              "0               2            2              2   \n",
              "1               1            5             23   \n",
              "2               0            0              0   \n",
              "3               0            1              0   \n",
              "4               0            0              1   \n",
              "...           ...          ...            ...   \n",
              "2078            0            1              0   \n",
              "2079            1            0              0   \n",
              "2080            0            1              3   \n",
              "2081            0            0              0   \n",
              "2082            0            0              0   \n",
              "\n",
              "                                              tweet_url   user_id_str  \\\n",
              "0     https://x.com/AchmadAnnama/status/175814048325...  1.196081e+08   \n",
              "1     https://x.com/republikaonline/status/175814195...  2.212690e+07   \n",
              "2     https://x.com/medcom_id/status/175809884275753...  9.028380e+17   \n",
              "3     https://x.com/pinterpolitik/status/17581139412...  7.987710e+17   \n",
              "4     https://x.com/medcom_id/status/175811393662737...  9.028380e+17   \n",
              "...                                                 ...           ...   \n",
              "2078  https://x.com/kompascom/status/179558523007156...  2.334396e+07   \n",
              "2079  https://x.com/CNNIndonesia/status/179644682794...  1.712898e+07   \n",
              "2080    https://x.com/e100ss/status/1796006072702136733  8.486146e+08   \n",
              "2081  https://x.com/kompascom/status/179500504371398...  2.334396e+07   \n",
              "2082  https://x.com/VIVAcoid/status/1796501410684747856  4.173094e+07   \n",
              "\n",
              "             username  \n",
              "0        AchmadAnnama  \n",
              "1     republikaonline  \n",
              "2           medcom_id  \n",
              "3       pinterpolitik  \n",
              "4           medcom_id  \n",
              "...               ...  \n",
              "2078        kompascom  \n",
              "2079     CNNIndonesia  \n",
              "2080           e100ss  \n",
              "2081        kompascom  \n",
              "2082         VIVAcoid  \n",
              "\n",
              "[2083 rows x 15 columns]"
            ]
          },
          "metadata": {},
          "output_type": "display_data"
        }
      ],
      "source": [
        "data = pd.read_csv('DataTweetFix.csv')\n",
        "\n",
        "display(data)"
      ]
    },
    {
      "cell_type": "code",
      "execution_count": null,
      "metadata": {},
      "outputs": [
        {
          "name": "stdout",
          "output_type": "stream",
          "text": [
            "<class 'pandas.core.frame.DataFrame'>\n",
            "RangeIndex: 2083 entries, 0 to 2082\n",
            "Data columns (total 15 columns):\n",
            " #   Column                   Non-Null Count  Dtype  \n",
            "---  ------                   --------------  -----  \n",
            " 0   conversation_id_str      2083 non-null   float64\n",
            " 1   created_at               2083 non-null   object \n",
            " 2   favorite_count           2083 non-null   int64  \n",
            " 3   full_text                2083 non-null   object \n",
            " 4   id_str                   2083 non-null   float64\n",
            " 5   image_url                982 non-null    object \n",
            " 6   in_reply_to_screen_name  128 non-null    object \n",
            " 7   lang                     2083 non-null   object \n",
            " 8   location                 1550 non-null   object \n",
            " 9   quote_count              2083 non-null   int64  \n",
            " 10  reply_count              2083 non-null   int64  \n",
            " 11  retweet_count            2083 non-null   int64  \n",
            " 12  tweet_url                2083 non-null   object \n",
            " 13  user_id_str              2083 non-null   float64\n",
            " 14  username                 2083 non-null   object \n",
            "dtypes: float64(3), int64(4), object(8)\n",
            "memory usage: 244.2+ KB\n"
          ]
        }
      ],
      "source": [
        "data.info()"
      ]
    },
    {
      "cell_type": "code",
      "execution_count": null,
      "metadata": {},
      "outputs": [
        {
          "data": {
            "text/plain": [
              "(2083, 15)"
            ]
          },
          "execution_count": 6,
          "metadata": {},
          "output_type": "execute_result"
        }
      ],
      "source": [
        "data.shape"
      ]
    },
    {
      "cell_type": "code",
      "execution_count": null,
      "metadata": {},
      "outputs": [
        {
          "data": {
            "text/plain": [
              "conversation_id_str           0\n",
              "created_at                    0\n",
              "favorite_count                0\n",
              "full_text                     0\n",
              "id_str                        0\n",
              "image_url                  1101\n",
              "in_reply_to_screen_name    1955\n",
              "lang                          0\n",
              "location                    533\n",
              "quote_count                   0\n",
              "reply_count                   0\n",
              "retweet_count                 0\n",
              "tweet_url                     0\n",
              "user_id_str                   0\n",
              "username                      0\n",
              "dtype: int64"
            ]
          },
          "execution_count": 7,
          "metadata": {},
          "output_type": "execute_result"
        }
      ],
      "source": [
        "data.isnull().sum()"
      ]
    },
    {
      "cell_type": "code",
      "execution_count": null,
      "metadata": {},
      "outputs": [
        {
          "data": {
            "text/plain": [
              "394"
            ]
          },
          "execution_count": 8,
          "metadata": {},
          "output_type": "execute_result"
        }
      ],
      "source": [
        "data.duplicated().sum()"
      ]
    },
    {
      "cell_type": "markdown",
      "metadata": {},
      "source": [
        "## Data Cleansing"
      ]
    },
    {
      "cell_type": "code",
      "execution_count": null,
      "metadata": {
        "colab": {
          "base_uri": "https://localhost:8080/",
          "height": 362
        },
        "id": "eRfDl54waHC4",
        "outputId": "1e78bce2-a154-4e57-910a-81ae483ea503"
      },
      "outputs": [
        {
          "data": {
            "text/html": [
              "<div>\n",
              "<style scoped>\n",
              "    .dataframe tbody tr th:only-of-type {\n",
              "        vertical-align: middle;\n",
              "    }\n",
              "\n",
              "    .dataframe tbody tr th {\n",
              "        vertical-align: top;\n",
              "    }\n",
              "\n",
              "    .dataframe thead th {\n",
              "        text-align: right;\n",
              "    }\n",
              "</style>\n",
              "<table border=\"1\" class=\"dataframe\">\n",
              "  <thead>\n",
              "    <tr style=\"text-align: right;\">\n",
              "      <th></th>\n",
              "      <th>created_at</th>\n",
              "      <th>username</th>\n",
              "      <th>full_text</th>\n",
              "    </tr>\n",
              "  </thead>\n",
              "  <tbody>\n",
              "    <tr>\n",
              "      <th>0</th>\n",
              "      <td>Thu Feb 15 14:45:30 +0000 2024</td>\n",
              "      <td>AchmadAnnama</td>\n",
              "      <td>Caleg Sistem Paylater Yang Penting DP Dulu... ...</td>\n",
              "    </tr>\n",
              "    <tr>\n",
              "      <th>1</th>\n",
              "      <td>Thu Feb 15 14:51:22 +0000 2024</td>\n",
              "      <td>republikaonline</td>\n",
              "      <td>Anies menegaskan misi yang besar itu ialah mem...</td>\n",
              "    </tr>\n",
              "    <tr>\n",
              "      <th>2</th>\n",
              "      <td>Thu Feb 15 12:00:02 +0000 2024</td>\n",
              "      <td>medcom_id</td>\n",
              "      <td>Link dan cara cek real count pemilu 2024 resmi...</td>\n",
              "    </tr>\n",
              "    <tr>\n",
              "      <th>3</th>\n",
              "      <td>Thu Feb 15 13:00:02 +0000 2024</td>\n",
              "      <td>pinterpolitik</td>\n",
              "      <td>Investasinya selama ini gimana nih Pak Hary Ta...</td>\n",
              "    </tr>\n",
              "    <tr>\n",
              "      <th>4</th>\n",
              "      <td>Thu Feb 15 13:00:01 +0000 2024</td>\n",
              "      <td>medcom_id</td>\n",
              "      <td>KPU sebut 668 TPS berpotensi melakukan pemungu...</td>\n",
              "    </tr>\n",
              "    <tr>\n",
              "      <th>5</th>\n",
              "      <td>Thu Feb 15 13:05:00 +0000 2024</td>\n",
              "      <td>kompascom</td>\n",
              "      <td>Anies Konsisten di Gerakan Perubahan Ganjar Pe...</td>\n",
              "    </tr>\n",
              "    <tr>\n",
              "      <th>6</th>\n",
              "      <td>Thu Feb 15 13:09:43 +0000 2024</td>\n",
              "      <td>officialntv_</td>\n",
              "      <td>Respons Ganjar soal Hasil Quick Count: Suara P...</td>\n",
              "    </tr>\n",
              "    <tr>\n",
              "      <th>7</th>\n",
              "      <td>Thu Feb 15 09:00:02 +0000 2024</td>\n",
              "      <td>pinterpolitik</td>\n",
              "      <td>Menurut kalian faktor mana nih yang buat Prabo...</td>\n",
              "    </tr>\n",
              "    <tr>\n",
              "      <th>8</th>\n",
              "      <td>Thu Feb 15 05:24:41 +0000 2024</td>\n",
              "      <td>cekfaktacom</td>\n",
              "      <td>CEK FAKTA! Klik link https://t.co/S6tdYN1YEf u...</td>\n",
              "    </tr>\n",
              "    <tr>\n",
              "      <th>9</th>\n",
              "      <td>Thu Feb 15 10:09:37 +0000 2024</td>\n",
              "      <td>ellandaroma</td>\n",
              "      <td>Anjay mantan Bupati Pati 2 periode suaranya me...</td>\n",
              "    </tr>\n",
              "  </tbody>\n",
              "</table>\n",
              "</div>"
            ],
            "text/plain": [
              "                       created_at         username  \\\n",
              "0  Thu Feb 15 14:45:30 +0000 2024     AchmadAnnama   \n",
              "1  Thu Feb 15 14:51:22 +0000 2024  republikaonline   \n",
              "2  Thu Feb 15 12:00:02 +0000 2024        medcom_id   \n",
              "3  Thu Feb 15 13:00:02 +0000 2024    pinterpolitik   \n",
              "4  Thu Feb 15 13:00:01 +0000 2024        medcom_id   \n",
              "5  Thu Feb 15 13:05:00 +0000 2024        kompascom   \n",
              "6  Thu Feb 15 13:09:43 +0000 2024     officialntv_   \n",
              "7  Thu Feb 15 09:00:02 +0000 2024    pinterpolitik   \n",
              "8  Thu Feb 15 05:24:41 +0000 2024      cekfaktacom   \n",
              "9  Thu Feb 15 10:09:37 +0000 2024      ellandaroma   \n",
              "\n",
              "                                           full_text  \n",
              "0  Caleg Sistem Paylater Yang Penting DP Dulu... ...  \n",
              "1  Anies menegaskan misi yang besar itu ialah mem...  \n",
              "2  Link dan cara cek real count pemilu 2024 resmi...  \n",
              "3  Investasinya selama ini gimana nih Pak Hary Ta...  \n",
              "4  KPU sebut 668 TPS berpotensi melakukan pemungu...  \n",
              "5  Anies Konsisten di Gerakan Perubahan Ganjar Pe...  \n",
              "6  Respons Ganjar soal Hasil Quick Count: Suara P...  \n",
              "7  Menurut kalian faktor mana nih yang buat Prabo...  \n",
              "8  CEK FAKTA! Klik link https://t.co/S6tdYN1YEf u...  \n",
              "9  Anjay mantan Bupati Pati 2 periode suaranya me...  "
            ]
          },
          "execution_count": 9,
          "metadata": {},
          "output_type": "execute_result"
        }
      ],
      "source": [
        "data = data[['created_at', 'username', 'full_text']]\n",
        "\n",
        "data.head(10)"
      ]
    },
    {
      "cell_type": "code",
      "execution_count": null,
      "metadata": {
        "id": "W8FDhBCII1bJ"
      },
      "outputs": [],
      "source": [
        "def detect_language(text):\n",
        "    try:\n",
        "        lang = detect(text)\n",
        "        return lang\n",
        "    except:\n",
        "        return 'unknown'\n",
        "\n",
        "data['Language'] = data['full_text'].apply(detect_language)\n",
        "\n",
        "data = data[data['Language'] == 'id']"
      ]
    },
    {
      "cell_type": "code",
      "execution_count": null,
      "metadata": {},
      "outputs": [
        {
          "data": {
            "text/html": [
              "<div>\n",
              "<style scoped>\n",
              "    .dataframe tbody tr th:only-of-type {\n",
              "        vertical-align: middle;\n",
              "    }\n",
              "\n",
              "    .dataframe tbody tr th {\n",
              "        vertical-align: top;\n",
              "    }\n",
              "\n",
              "    .dataframe thead th {\n",
              "        text-align: right;\n",
              "    }\n",
              "</style>\n",
              "<table border=\"1\" class=\"dataframe\">\n",
              "  <thead>\n",
              "    <tr style=\"text-align: right;\">\n",
              "      <th></th>\n",
              "      <th>created_at</th>\n",
              "      <th>username</th>\n",
              "      <th>full_text</th>\n",
              "      <th>Language</th>\n",
              "    </tr>\n",
              "  </thead>\n",
              "  <tbody>\n",
              "    <tr>\n",
              "      <th>1</th>\n",
              "      <td>Thu Feb 15 14:51:22 +0000 2024</td>\n",
              "      <td>republikaonline</td>\n",
              "      <td>Anies menegaskan misi yang besar itu ialah mem...</td>\n",
              "      <td>id</td>\n",
              "    </tr>\n",
              "    <tr>\n",
              "      <th>3</th>\n",
              "      <td>Thu Feb 15 13:00:02 +0000 2024</td>\n",
              "      <td>pinterpolitik</td>\n",
              "      <td>Investasinya selama ini gimana nih Pak Hary Ta...</td>\n",
              "      <td>id</td>\n",
              "    </tr>\n",
              "    <tr>\n",
              "      <th>4</th>\n",
              "      <td>Thu Feb 15 13:00:01 +0000 2024</td>\n",
              "      <td>medcom_id</td>\n",
              "      <td>KPU sebut 668 TPS berpotensi melakukan pemungu...</td>\n",
              "      <td>id</td>\n",
              "    </tr>\n",
              "    <tr>\n",
              "      <th>5</th>\n",
              "      <td>Thu Feb 15 13:05:00 +0000 2024</td>\n",
              "      <td>kompascom</td>\n",
              "      <td>Anies Konsisten di Gerakan Perubahan Ganjar Pe...</td>\n",
              "      <td>id</td>\n",
              "    </tr>\n",
              "    <tr>\n",
              "      <th>6</th>\n",
              "      <td>Thu Feb 15 13:09:43 +0000 2024</td>\n",
              "      <td>officialntv_</td>\n",
              "      <td>Respons Ganjar soal Hasil Quick Count: Suara P...</td>\n",
              "      <td>id</td>\n",
              "    </tr>\n",
              "    <tr>\n",
              "      <th>7</th>\n",
              "      <td>Thu Feb 15 09:00:02 +0000 2024</td>\n",
              "      <td>pinterpolitik</td>\n",
              "      <td>Menurut kalian faktor mana nih yang buat Prabo...</td>\n",
              "      <td>id</td>\n",
              "    </tr>\n",
              "    <tr>\n",
              "      <th>8</th>\n",
              "      <td>Thu Feb 15 05:24:41 +0000 2024</td>\n",
              "      <td>cekfaktacom</td>\n",
              "      <td>CEK FAKTA! Klik link https://t.co/S6tdYN1YEf u...</td>\n",
              "      <td>id</td>\n",
              "    </tr>\n",
              "    <tr>\n",
              "      <th>9</th>\n",
              "      <td>Thu Feb 15 10:09:37 +0000 2024</td>\n",
              "      <td>ellandaroma</td>\n",
              "      <td>Anjay mantan Bupati Pati 2 periode suaranya me...</td>\n",
              "      <td>id</td>\n",
              "    </tr>\n",
              "    <tr>\n",
              "      <th>10</th>\n",
              "      <td>Thu Feb 15 23:44:00 +0000 2024</td>\n",
              "      <td>pinterpolitik</td>\n",
              "      <td>Apakah kalian sepakat bahwa kritikan ke Jokowi...</td>\n",
              "      <td>id</td>\n",
              "    </tr>\n",
              "    <tr>\n",
              "      <th>11</th>\n",
              "      <td>Thu Feb 15 12:54:00 +0000 2024</td>\n",
              "      <td>officialntv_</td>\n",
              "      <td>Sempat Bikin Khawatir Pemilu 2024 Ternyata Mal...</td>\n",
              "      <td>id</td>\n",
              "    </tr>\n",
              "  </tbody>\n",
              "</table>\n",
              "</div>"
            ],
            "text/plain": [
              "                        created_at         username  \\\n",
              "1   Thu Feb 15 14:51:22 +0000 2024  republikaonline   \n",
              "3   Thu Feb 15 13:00:02 +0000 2024    pinterpolitik   \n",
              "4   Thu Feb 15 13:00:01 +0000 2024        medcom_id   \n",
              "5   Thu Feb 15 13:05:00 +0000 2024        kompascom   \n",
              "6   Thu Feb 15 13:09:43 +0000 2024     officialntv_   \n",
              "7   Thu Feb 15 09:00:02 +0000 2024    pinterpolitik   \n",
              "8   Thu Feb 15 05:24:41 +0000 2024      cekfaktacom   \n",
              "9   Thu Feb 15 10:09:37 +0000 2024      ellandaroma   \n",
              "10  Thu Feb 15 23:44:00 +0000 2024    pinterpolitik   \n",
              "11  Thu Feb 15 12:54:00 +0000 2024     officialntv_   \n",
              "\n",
              "                                            full_text Language  \n",
              "1   Anies menegaskan misi yang besar itu ialah mem...       id  \n",
              "3   Investasinya selama ini gimana nih Pak Hary Ta...       id  \n",
              "4   KPU sebut 668 TPS berpotensi melakukan pemungu...       id  \n",
              "5   Anies Konsisten di Gerakan Perubahan Ganjar Pe...       id  \n",
              "6   Respons Ganjar soal Hasil Quick Count: Suara P...       id  \n",
              "7   Menurut kalian faktor mana nih yang buat Prabo...       id  \n",
              "8   CEK FAKTA! Klik link https://t.co/S6tdYN1YEf u...       id  \n",
              "9   Anjay mantan Bupati Pati 2 periode suaranya me...       id  \n",
              "10  Apakah kalian sepakat bahwa kritikan ke Jokowi...       id  \n",
              "11  Sempat Bikin Khawatir Pemilu 2024 Ternyata Mal...       id  "
            ]
          },
          "execution_count": 11,
          "metadata": {},
          "output_type": "execute_result"
        }
      ],
      "source": [
        "data.head(10)"
      ]
    },
    {
      "cell_type": "markdown",
      "metadata": {},
      "source": [
        "## Slang Word Changes"
      ]
    },
    {
      "cell_type": "code",
      "execution_count": null,
      "metadata": {},
      "outputs": [],
      "source": [
        "df_slang = pd.read_csv('kamus-alay\\colloquial-indonesian-lexicon.csv') \n",
        "\n",
        "def replace_slang(text):\n",
        "    words = text.split()\n",
        "    for i in range(len(words)):\n",
        "        slang_word = df_slang[df_slang['slang'] == words[i]]\n",
        "        if not slang_word.empty:\n",
        "            words[i] = slang_word['formal'].values[0]\n",
        "    return ' '.join(words)"
      ]
    },
    {
      "cell_type": "code",
      "execution_count": null,
      "metadata": {},
      "outputs": [],
      "source": [
        "data['full_text'] = data['full_text'].apply(replace_slang)"
      ]
    },
    {
      "cell_type": "code",
      "execution_count": null,
      "metadata": {},
      "outputs": [
        {
          "data": {
            "text/html": [
              "<div>\n",
              "<style scoped>\n",
              "    .dataframe tbody tr th:only-of-type {\n",
              "        vertical-align: middle;\n",
              "    }\n",
              "\n",
              "    .dataframe tbody tr th {\n",
              "        vertical-align: top;\n",
              "    }\n",
              "\n",
              "    .dataframe thead th {\n",
              "        text-align: right;\n",
              "    }\n",
              "</style>\n",
              "<table border=\"1\" class=\"dataframe\">\n",
              "  <thead>\n",
              "    <tr style=\"text-align: right;\">\n",
              "      <th></th>\n",
              "      <th>created_at</th>\n",
              "      <th>username</th>\n",
              "      <th>full_text</th>\n",
              "      <th>Language</th>\n",
              "    </tr>\n",
              "  </thead>\n",
              "  <tbody>\n",
              "    <tr>\n",
              "      <th>1</th>\n",
              "      <td>Thu Feb 15 14:51:22 +0000 2024</td>\n",
              "      <td>republikaonline</td>\n",
              "      <td>Anies menegaskan misi yang besar itu ialah mem...</td>\n",
              "      <td>id</td>\n",
              "    </tr>\n",
              "    <tr>\n",
              "      <th>3</th>\n",
              "      <td>Thu Feb 15 13:00:02 +0000 2024</td>\n",
              "      <td>pinterpolitik</td>\n",
              "      <td>Investasinya selama ini bagaimana nih Pak Hary...</td>\n",
              "      <td>id</td>\n",
              "    </tr>\n",
              "    <tr>\n",
              "      <th>4</th>\n",
              "      <td>Thu Feb 15 13:00:01 +0000 2024</td>\n",
              "      <td>medcom_id</td>\n",
              "      <td>KPU sebut 668 TPS berpotensi melakukan pemungu...</td>\n",
              "      <td>id</td>\n",
              "    </tr>\n",
              "    <tr>\n",
              "      <th>5</th>\n",
              "      <td>Thu Feb 15 13:05:00 +0000 2024</td>\n",
              "      <td>kompascom</td>\n",
              "      <td>Anies Konsisten di Gerakan Perubahan Ganjar Pe...</td>\n",
              "      <td>id</td>\n",
              "    </tr>\n",
              "    <tr>\n",
              "      <th>6</th>\n",
              "      <td>Thu Feb 15 13:09:43 +0000 2024</td>\n",
              "      <td>officialntv_</td>\n",
              "      <td>Respons Ganjar soal Hasil Quick Count: Suara P...</td>\n",
              "      <td>id</td>\n",
              "    </tr>\n",
              "    <tr>\n",
              "      <th>7</th>\n",
              "      <td>Thu Feb 15 09:00:02 +0000 2024</td>\n",
              "      <td>pinterpolitik</td>\n",
              "      <td>Menurut kalian faktor mana nih yang buat Prabo...</td>\n",
              "      <td>id</td>\n",
              "    </tr>\n",
              "    <tr>\n",
              "      <th>8</th>\n",
              "      <td>Thu Feb 15 05:24:41 +0000 2024</td>\n",
              "      <td>cekfaktacom</td>\n",
              "      <td>CEK FAKTA! Klik link https://t.co/S6tdYN1YEf u...</td>\n",
              "      <td>id</td>\n",
              "    </tr>\n",
              "    <tr>\n",
              "      <th>9</th>\n",
              "      <td>Thu Feb 15 10:09:37 +0000 2024</td>\n",
              "      <td>ellandaroma</td>\n",
              "      <td>Anjay mantan Bupati Pati 2 periode suaranya me...</td>\n",
              "      <td>id</td>\n",
              "    </tr>\n",
              "    <tr>\n",
              "      <th>10</th>\n",
              "      <td>Thu Feb 15 23:44:00 +0000 2024</td>\n",
              "      <td>pinterpolitik</td>\n",
              "      <td>Apakah kalian sepakat bahwa kritikan ke Jokowi...</td>\n",
              "      <td>id</td>\n",
              "    </tr>\n",
              "    <tr>\n",
              "      <th>11</th>\n",
              "      <td>Thu Feb 15 12:54:00 +0000 2024</td>\n",
              "      <td>officialntv_</td>\n",
              "      <td>Sempat Bikin Khawatir Pemilu 2024 Ternyata Mal...</td>\n",
              "      <td>id</td>\n",
              "    </tr>\n",
              "  </tbody>\n",
              "</table>\n",
              "</div>"
            ],
            "text/plain": [
              "                        created_at         username  \\\n",
              "1   Thu Feb 15 14:51:22 +0000 2024  republikaonline   \n",
              "3   Thu Feb 15 13:00:02 +0000 2024    pinterpolitik   \n",
              "4   Thu Feb 15 13:00:01 +0000 2024        medcom_id   \n",
              "5   Thu Feb 15 13:05:00 +0000 2024        kompascom   \n",
              "6   Thu Feb 15 13:09:43 +0000 2024     officialntv_   \n",
              "7   Thu Feb 15 09:00:02 +0000 2024    pinterpolitik   \n",
              "8   Thu Feb 15 05:24:41 +0000 2024      cekfaktacom   \n",
              "9   Thu Feb 15 10:09:37 +0000 2024      ellandaroma   \n",
              "10  Thu Feb 15 23:44:00 +0000 2024    pinterpolitik   \n",
              "11  Thu Feb 15 12:54:00 +0000 2024     officialntv_   \n",
              "\n",
              "                                            full_text Language  \n",
              "1   Anies menegaskan misi yang besar itu ialah mem...       id  \n",
              "3   Investasinya selama ini bagaimana nih Pak Hary...       id  \n",
              "4   KPU sebut 668 TPS berpotensi melakukan pemungu...       id  \n",
              "5   Anies Konsisten di Gerakan Perubahan Ganjar Pe...       id  \n",
              "6   Respons Ganjar soal Hasil Quick Count: Suara P...       id  \n",
              "7   Menurut kalian faktor mana nih yang buat Prabo...       id  \n",
              "8   CEK FAKTA! Klik link https://t.co/S6tdYN1YEf u...       id  \n",
              "9   Anjay mantan Bupati Pati 2 periode suaranya me...       id  \n",
              "10  Apakah kalian sepakat bahwa kritikan ke Jokowi...       id  \n",
              "11  Sempat Bikin Khawatir Pemilu 2024 Ternyata Mal...       id  "
            ]
          },
          "execution_count": 14,
          "metadata": {},
          "output_type": "execute_result"
        }
      ],
      "source": [
        "data.head(10)"
      ]
    },
    {
      "cell_type": "markdown",
      "metadata": {},
      "source": [
        "## Data Pre-Processing"
      ]
    },
    {
      "cell_type": "code",
      "execution_count": null,
      "metadata": {
        "colab": {
          "base_uri": "https://localhost:8080/"
        },
        "id": "tLCchyCDEXuI",
        "outputId": "d1104beb-5125-429c-b8e6-2744a86e8ee3"
      },
      "outputs": [],
      "source": [
        "def remove_tweet_special(text):\n",
        "    # Menghapus tab, baris baru, dan back slice\n",
        "    text = text.replace('\\\\t', ' ').replace('\\\\n', ' ').replace('\\\\u', ' ').replace('\\\\', '')\n",
        "\n",
        "    # Menghapus karakter non-ASCII (emotikon, huruf Cina, dll.)\n",
        "    text = text.encode('ascii', 'replace').decode('ascii')\n",
        "\n",
        "    # Menghapus mention, link, dan hashtag\n",
        "    text = ' '.join(re.sub(\"([@#][A-Za-z0-9]+)|(\\w+:\\/\\/\\S+)\", \" \", text).split())\n",
        "\n",
        "    # Menghapus URL yang tidak lengkap\n",
        "    text = text.replace(\"http://\", \" \").replace(\"https://\", \" \")\n",
        "\n",
        "    return text\n",
        "\n",
        "def clean_text(data):\n",
        "    # Menghapus karakter yang tidak diinginkan (_) dan karakter selain huruf\n",
        "    data['full_text'] = data['full_text'].str.replace(r\"[^a-zA-Z ]+\", \" \").str.strip()\n",
        "\n",
        "    # Mengganti multiple whitespace dengan single whitespace\n",
        "    data['full_text'] = data['full_text'].replace(\" +\", \" \", regex=True)\n",
        "\n",
        "    return data\n",
        "\n",
        "data['full_text'] = data['full_text'].apply(remove_tweet_special)\n",
        "\n",
        "data = clean_text(data)\n"
      ]
    },
    {
      "cell_type": "code",
      "execution_count": null,
      "metadata": {
        "colab": {
          "base_uri": "https://localhost:8080/"
        },
        "id": "ravL4NJk9Nxw",
        "outputId": "bcc79fa8-a3e2-4a10-c1bf-869bc8819372"
      },
      "outputs": [],
      "source": [
        "def clean_punctuation(text):\n",
        "    return text.translate(str.maketrans('', '', string.punctuation))\n",
        "\n",
        "lemmatizer = Lemmatizer()\n",
        "\n",
        "def lemmatize_text(text):\n",
        "    return lemmatizer.lemmatize(text)\n",
        "\n",
        "def remove_numbers(text):\n",
        "    return re.sub('[0-9]+', '', text)\n",
        "\n",
        "def remove_stopwords(text):\n",
        "    stop_words = set(stopwords.words('indonesian'))\n",
        "    return ' '.join([word for word in nltk.word_tokenize(text) if word.lower() not in stop_words])\n",
        "\n",
        "data['full_text'] = data['full_text'].apply(lambda x: x.lower())\n",
        "\n",
        "data['full_text'] = data['full_text'].apply(clean_punctuation)\n",
        "\n",
        "data['full_text'] = data['full_text'].apply(lemmatize_text)\n",
        "\n",
        "data['full_text'] = data['full_text'].apply(remove_numbers)\n",
        "\n",
        "data['full_text'] = data['full_text'].apply(remove_stopwords)"
      ]
    },
    {
      "cell_type": "code",
      "execution_count": null,
      "metadata": {
        "colab": {
          "base_uri": "https://localhost:8080/",
          "height": 362
        },
        "id": "1yU08rX__j0_",
        "outputId": "123c9d30-91d4-45bb-eb72-a0c76d4ca4df"
      },
      "outputs": [
        {
          "data": {
            "text/html": [
              "<div>\n",
              "<style scoped>\n",
              "    .dataframe tbody tr th:only-of-type {\n",
              "        vertical-align: middle;\n",
              "    }\n",
              "\n",
              "    .dataframe tbody tr th {\n",
              "        vertical-align: top;\n",
              "    }\n",
              "\n",
              "    .dataframe thead th {\n",
              "        text-align: right;\n",
              "    }\n",
              "</style>\n",
              "<table border=\"1\" class=\"dataframe\">\n",
              "  <thead>\n",
              "    <tr style=\"text-align: right;\">\n",
              "      <th></th>\n",
              "      <th>created_at</th>\n",
              "      <th>username</th>\n",
              "      <th>full_text</th>\n",
              "      <th>Language</th>\n",
              "    </tr>\n",
              "  </thead>\n",
              "  <tbody>\n",
              "    <tr>\n",
              "      <th>1</th>\n",
              "      <td>Thu Feb 15 14:51:22 +0000 2024</td>\n",
              "      <td>republikaonline</td>\n",
              "      <td>anies misi bangun demokrasi indonesia junjung ...</td>\n",
              "      <td>id</td>\n",
              "    </tr>\n",
              "    <tr>\n",
              "      <th>3</th>\n",
              "      <td>Thu Feb 15 13:00:02 +0000 2024</td>\n",
              "      <td>pinterpolitik</td>\n",
              "      <td>investasi nih hary tanoe</td>\n",
              "      <td>id</td>\n",
              "    </tr>\n",
              "    <tr>\n",
              "      <th>4</th>\n",
              "      <td>Thu Feb 15 13:00:01 +0000 2024</td>\n",
              "      <td>medcom_id</td>\n",
              "      <td>kpu tps potensi laku pungut suara susul</td>\n",
              "      <td>id</td>\n",
              "    </tr>\n",
              "    <tr>\n",
              "      <th>5</th>\n",
              "      <td>Thu Feb 15 13:05:00 +0000 2024</td>\n",
              "      <td>kompascom</td>\n",
              "      <td>anies konsisten gerak ubah ganjar hasil quick ...</td>\n",
              "      <td>id</td>\n",
              "    </tr>\n",
              "    <tr>\n",
              "      <th>6</th>\n",
              "      <td>Thu Feb 15 13:09:43 +0000 2024</td>\n",
              "      <td>officialntv_</td>\n",
              "      <td>respons ganjar hasil quick count suara pdip</td>\n",
              "      <td>id</td>\n",
              "    </tr>\n",
              "    <tr>\n",
              "      <th>7</th>\n",
              "      <td>Thu Feb 15 09:00:02 +0000 2024</td>\n",
              "      <td>pinterpolitik</td>\n",
              "      <td>faktor nih prabowogibran menang share kolom ko...</td>\n",
              "      <td>id</td>\n",
              "    </tr>\n",
              "    <tr>\n",
              "      <th>8</th>\n",
              "      <td>Thu Feb 15 05:24:41 +0000 2024</td>\n",
              "      <td>cekfaktacom</td>\n",
              "      <td>cek fakta klik link cek fakta informasi saji yuk</td>\n",
              "      <td>id</td>\n",
              "    </tr>\n",
              "    <tr>\n",
              "      <th>9</th>\n",
              "      <td>Thu Feb 15 10:09:37 +0000 2024</td>\n",
              "      <td>ellandaroma</td>\n",
              "      <td>anjay mantan bupati pati periode suara jura ja...</td>\n",
              "      <td>id</td>\n",
              "    </tr>\n",
              "    <tr>\n",
              "      <th>10</th>\n",
              "      <td>Thu Feb 15 23:44:00 +0000 2024</td>\n",
              "      <td>pinterpolitik</td>\n",
              "      <td>sepakat kritik jokowi poin kalah ganjar iris p...</td>\n",
              "      <td>id</td>\n",
              "    </tr>\n",
              "    <tr>\n",
              "      <th>11</th>\n",
              "      <td>Thu Feb 15 12:54:00 +0000 2024</td>\n",
              "      <td>officialntv_</td>\n",
              "      <td>bikin khawatir milu nyata bawa berkah pariwisa...</td>\n",
              "      <td>id</td>\n",
              "    </tr>\n",
              "  </tbody>\n",
              "</table>\n",
              "</div>"
            ],
            "text/plain": [
              "                        created_at         username  \\\n",
              "1   Thu Feb 15 14:51:22 +0000 2024  republikaonline   \n",
              "3   Thu Feb 15 13:00:02 +0000 2024    pinterpolitik   \n",
              "4   Thu Feb 15 13:00:01 +0000 2024        medcom_id   \n",
              "5   Thu Feb 15 13:05:00 +0000 2024        kompascom   \n",
              "6   Thu Feb 15 13:09:43 +0000 2024     officialntv_   \n",
              "7   Thu Feb 15 09:00:02 +0000 2024    pinterpolitik   \n",
              "8   Thu Feb 15 05:24:41 +0000 2024      cekfaktacom   \n",
              "9   Thu Feb 15 10:09:37 +0000 2024      ellandaroma   \n",
              "10  Thu Feb 15 23:44:00 +0000 2024    pinterpolitik   \n",
              "11  Thu Feb 15 12:54:00 +0000 2024     officialntv_   \n",
              "\n",
              "                                            full_text Language  \n",
              "1   anies misi bangun demokrasi indonesia junjung ...       id  \n",
              "3                            investasi nih hary tanoe       id  \n",
              "4             kpu tps potensi laku pungut suara susul       id  \n",
              "5   anies konsisten gerak ubah ganjar hasil quick ...       id  \n",
              "6         respons ganjar hasil quick count suara pdip       id  \n",
              "7   faktor nih prabowogibran menang share kolom ko...       id  \n",
              "8    cek fakta klik link cek fakta informasi saji yuk       id  \n",
              "9   anjay mantan bupati pati periode suara jura ja...       id  \n",
              "10  sepakat kritik jokowi poin kalah ganjar iris p...       id  \n",
              "11  bikin khawatir milu nyata bawa berkah pariwisa...       id  "
            ]
          },
          "execution_count": 17,
          "metadata": {},
          "output_type": "execute_result"
        }
      ],
      "source": [
        "data.head(10)"
      ]
    },
    {
      "cell_type": "markdown",
      "metadata": {},
      "source": [
        "## Negative and Positive Word"
      ]
    },
    {
      "cell_type": "code",
      "execution_count": null,
      "metadata": {},
      "outputs": [
        {
          "data": {
            "text/html": [
              "<div>\n",
              "<style scoped>\n",
              "    .dataframe tbody tr th:only-of-type {\n",
              "        vertical-align: middle;\n",
              "    }\n",
              "\n",
              "    .dataframe tbody tr th {\n",
              "        vertical-align: top;\n",
              "    }\n",
              "\n",
              "    .dataframe thead th {\n",
              "        text-align: right;\n",
              "    }\n",
              "</style>\n",
              "<table border=\"1\" class=\"dataframe\">\n",
              "  <thead>\n",
              "    <tr style=\"text-align: right;\">\n",
              "      <th></th>\n",
              "      <th>word</th>\n",
              "      <th>weight</th>\n",
              "      <th>sentiment</th>\n",
              "    </tr>\n",
              "  </thead>\n",
              "  <tbody>\n",
              "    <tr>\n",
              "      <th>0</th>\n",
              "      <td>putus tali gantung</td>\n",
              "      <td>-2</td>\n",
              "      <td>negative</td>\n",
              "    </tr>\n",
              "    <tr>\n",
              "      <th>1</th>\n",
              "      <td>gelebah</td>\n",
              "      <td>-2</td>\n",
              "      <td>negative</td>\n",
              "    </tr>\n",
              "    <tr>\n",
              "      <th>2</th>\n",
              "      <td>gobar hati</td>\n",
              "      <td>-2</td>\n",
              "      <td>negative</td>\n",
              "    </tr>\n",
              "    <tr>\n",
              "      <th>3</th>\n",
              "      <td>tersentuh (perasaan)</td>\n",
              "      <td>-1</td>\n",
              "      <td>negative</td>\n",
              "    </tr>\n",
              "    <tr>\n",
              "      <th>4</th>\n",
              "      <td>isak</td>\n",
              "      <td>-5</td>\n",
              "      <td>negative</td>\n",
              "    </tr>\n",
              "    <tr>\n",
              "      <th>5</th>\n",
              "      <td>larat hati</td>\n",
              "      <td>-3</td>\n",
              "      <td>negative</td>\n",
              "    </tr>\n",
              "    <tr>\n",
              "      <th>6</th>\n",
              "      <td>nelangsa</td>\n",
              "      <td>-3</td>\n",
              "      <td>negative</td>\n",
              "    </tr>\n",
              "    <tr>\n",
              "      <th>7</th>\n",
              "      <td>remuk redam</td>\n",
              "      <td>-5</td>\n",
              "      <td>negative</td>\n",
              "    </tr>\n",
              "    <tr>\n",
              "      <th>8</th>\n",
              "      <td>tidak segan</td>\n",
              "      <td>-2</td>\n",
              "      <td>negative</td>\n",
              "    </tr>\n",
              "    <tr>\n",
              "      <th>9</th>\n",
              "      <td>gemar</td>\n",
              "      <td>-1</td>\n",
              "      <td>negative</td>\n",
              "    </tr>\n",
              "  </tbody>\n",
              "</table>\n",
              "</div>"
            ],
            "text/plain": [
              "                   word  weight sentiment\n",
              "0    putus tali gantung      -2  negative\n",
              "1               gelebah      -2  negative\n",
              "2            gobar hati      -2  negative\n",
              "3  tersentuh (perasaan)      -1  negative\n",
              "4                  isak      -5  negative\n",
              "5            larat hati      -3  negative\n",
              "6              nelangsa      -3  negative\n",
              "7           remuk redam      -5  negative\n",
              "8           tidak segan      -2  negative\n",
              "9                 gemar      -1  negative"
            ]
          },
          "execution_count": 18,
          "metadata": {},
          "output_type": "execute_result"
        }
      ],
      "source": [
        "file_negative = 'InSet/negative.tsv'\n",
        "file_positive = 'Inset/positive.tsv'\n",
        "\n",
        "data_negative = pd.read_csv(file_negative, sep='\\t')\n",
        "data_positive = pd.read_csv(file_positive, sep='\\t')\n",
        "\n",
        "# Tambahkan kolom label sentimen\n",
        "data_negative['sentiment'] = 'negative'\n",
        "data_positive['sentiment'] = 'positive'\n",
        "\n",
        "# Gabungkan dataset negative dan positive menjadi satu dataset\n",
        "data_combined = pd.concat([data_negative, data_positive], ignore_index=True)\n",
        "\n",
        "# Tampilkan beberapa contoh data\n",
        "data_combined.head(10)\n"
      ]
    },
    {
      "cell_type": "code",
      "execution_count": null,
      "metadata": {},
      "outputs": [],
      "source": [
        "word_weight_dict = dict(zip(data_combined['word'], data_combined['weight']))\n",
        "\n",
        "def determine_sentiment(word):\n",
        "    if word in word_weight_dict:\n",
        "        if word_weight_dict[word] < 0:\n",
        "            return 'negatif'\n",
        "        elif word_weight_dict[word] > 0:\n",
        "            return 'positif'\n",
        "    return 'netral'"
      ]
    },
    {
      "cell_type": "code",
      "execution_count": null,
      "metadata": {},
      "outputs": [
        {
          "data": {
            "text/html": [
              "<div>\n",
              "<style scoped>\n",
              "    .dataframe tbody tr th:only-of-type {\n",
              "        vertical-align: middle;\n",
              "    }\n",
              "\n",
              "    .dataframe tbody tr th {\n",
              "        vertical-align: top;\n",
              "    }\n",
              "\n",
              "    .dataframe thead th {\n",
              "        text-align: right;\n",
              "    }\n",
              "</style>\n",
              "<table border=\"1\" class=\"dataframe\">\n",
              "  <thead>\n",
              "    <tr style=\"text-align: right;\">\n",
              "      <th></th>\n",
              "      <th>created_at</th>\n",
              "      <th>username</th>\n",
              "      <th>full_text</th>\n",
              "      <th>Language</th>\n",
              "    </tr>\n",
              "  </thead>\n",
              "  <tbody>\n",
              "    <tr>\n",
              "      <th>1</th>\n",
              "      <td>Thu Feb 15 14:51:22 +0000 2024</td>\n",
              "      <td>republikaonline</td>\n",
              "      <td>anies misi bangun demokrasi indonesia junjung ...</td>\n",
              "      <td>id</td>\n",
              "    </tr>\n",
              "    <tr>\n",
              "      <th>3</th>\n",
              "      <td>Thu Feb 15 13:00:02 +0000 2024</td>\n",
              "      <td>pinterpolitik</td>\n",
              "      <td>investasi nih hary tanoe</td>\n",
              "      <td>id</td>\n",
              "    </tr>\n",
              "    <tr>\n",
              "      <th>4</th>\n",
              "      <td>Thu Feb 15 13:00:01 +0000 2024</td>\n",
              "      <td>medcom_id</td>\n",
              "      <td>kpu tps potensi laku pungut suara susul</td>\n",
              "      <td>id</td>\n",
              "    </tr>\n",
              "    <tr>\n",
              "      <th>5</th>\n",
              "      <td>Thu Feb 15 13:05:00 +0000 2024</td>\n",
              "      <td>kompascom</td>\n",
              "      <td>anies konsisten gerak ubah ganjar hasil quick ...</td>\n",
              "      <td>id</td>\n",
              "    </tr>\n",
              "    <tr>\n",
              "      <th>6</th>\n",
              "      <td>Thu Feb 15 13:09:43 +0000 2024</td>\n",
              "      <td>officialntv_</td>\n",
              "      <td>respons ganjar hasil quick count suara pdip</td>\n",
              "      <td>id</td>\n",
              "    </tr>\n",
              "    <tr>\n",
              "      <th>7</th>\n",
              "      <td>Thu Feb 15 09:00:02 +0000 2024</td>\n",
              "      <td>pinterpolitik</td>\n",
              "      <td>faktor nih prabowogibran menang share kolom ko...</td>\n",
              "      <td>id</td>\n",
              "    </tr>\n",
              "    <tr>\n",
              "      <th>8</th>\n",
              "      <td>Thu Feb 15 05:24:41 +0000 2024</td>\n",
              "      <td>cekfaktacom</td>\n",
              "      <td>cek fakta klik link cek fakta informasi saji yuk</td>\n",
              "      <td>id</td>\n",
              "    </tr>\n",
              "    <tr>\n",
              "      <th>9</th>\n",
              "      <td>Thu Feb 15 10:09:37 +0000 2024</td>\n",
              "      <td>ellandaroma</td>\n",
              "      <td>anjay mantan bupati pati periode suara jura ja...</td>\n",
              "      <td>id</td>\n",
              "    </tr>\n",
              "    <tr>\n",
              "      <th>10</th>\n",
              "      <td>Thu Feb 15 23:44:00 +0000 2024</td>\n",
              "      <td>pinterpolitik</td>\n",
              "      <td>sepakat kritik jokowi poin kalah ganjar iris p...</td>\n",
              "      <td>id</td>\n",
              "    </tr>\n",
              "    <tr>\n",
              "      <th>11</th>\n",
              "      <td>Thu Feb 15 12:54:00 +0000 2024</td>\n",
              "      <td>officialntv_</td>\n",
              "      <td>bikin khawatir milu nyata bawa berkah pariwisa...</td>\n",
              "      <td>id</td>\n",
              "    </tr>\n",
              "  </tbody>\n",
              "</table>\n",
              "</div>"
            ],
            "text/plain": [
              "                        created_at         username  \\\n",
              "1   Thu Feb 15 14:51:22 +0000 2024  republikaonline   \n",
              "3   Thu Feb 15 13:00:02 +0000 2024    pinterpolitik   \n",
              "4   Thu Feb 15 13:00:01 +0000 2024        medcom_id   \n",
              "5   Thu Feb 15 13:05:00 +0000 2024        kompascom   \n",
              "6   Thu Feb 15 13:09:43 +0000 2024     officialntv_   \n",
              "7   Thu Feb 15 09:00:02 +0000 2024    pinterpolitik   \n",
              "8   Thu Feb 15 05:24:41 +0000 2024      cekfaktacom   \n",
              "9   Thu Feb 15 10:09:37 +0000 2024      ellandaroma   \n",
              "10  Thu Feb 15 23:44:00 +0000 2024    pinterpolitik   \n",
              "11  Thu Feb 15 12:54:00 +0000 2024     officialntv_   \n",
              "\n",
              "                                            full_text Language  \n",
              "1   anies misi bangun demokrasi indonesia junjung ...       id  \n",
              "3                            investasi nih hary tanoe       id  \n",
              "4             kpu tps potensi laku pungut suara susul       id  \n",
              "5   anies konsisten gerak ubah ganjar hasil quick ...       id  \n",
              "6         respons ganjar hasil quick count suara pdip       id  \n",
              "7   faktor nih prabowogibran menang share kolom ko...       id  \n",
              "8    cek fakta klik link cek fakta informasi saji yuk       id  \n",
              "9   anjay mantan bupati pati periode suara jura ja...       id  \n",
              "10  sepakat kritik jokowi poin kalah ganjar iris p...       id  \n",
              "11  bikin khawatir milu nyata bawa berkah pariwisa...       id  "
            ]
          },
          "execution_count": 20,
          "metadata": {},
          "output_type": "execute_result"
        }
      ],
      "source": [
        "data.head(10)"
      ]
    },
    {
      "cell_type": "markdown",
      "metadata": {},
      "source": [
        "## Labeling data"
      ]
    },
    {
      "cell_type": "code",
      "execution_count": null,
      "metadata": {},
      "outputs": [
        {
          "data": {
            "text/html": [
              "<div>\n",
              "<style scoped>\n",
              "    .dataframe tbody tr th:only-of-type {\n",
              "        vertical-align: middle;\n",
              "    }\n",
              "\n",
              "    .dataframe tbody tr th {\n",
              "        vertical-align: top;\n",
              "    }\n",
              "\n",
              "    .dataframe thead th {\n",
              "        text-align: right;\n",
              "    }\n",
              "</style>\n",
              "<table border=\"1\" class=\"dataframe\">\n",
              "  <thead>\n",
              "    <tr style=\"text-align: right;\">\n",
              "      <th></th>\n",
              "      <th>created_at</th>\n",
              "      <th>username</th>\n",
              "      <th>full_text</th>\n",
              "      <th>Language</th>\n",
              "      <th>text_weight</th>\n",
              "      <th>sentiment</th>\n",
              "    </tr>\n",
              "  </thead>\n",
              "  <tbody>\n",
              "    <tr>\n",
              "      <th>1</th>\n",
              "      <td>Thu Feb 15 14:51:22 +0000 2024</td>\n",
              "      <td>republikaonline</td>\n",
              "      <td>anies misi bangun demokrasi indonesia junjung ...</td>\n",
              "      <td>id</td>\n",
              "      <td>0</td>\n",
              "      <td>[netral, netral, netral, netral, netral, negat...</td>\n",
              "    </tr>\n",
              "    <tr>\n",
              "      <th>3</th>\n",
              "      <td>Thu Feb 15 13:00:02 +0000 2024</td>\n",
              "      <td>pinterpolitik</td>\n",
              "      <td>investasi nih hary tanoe</td>\n",
              "      <td>id</td>\n",
              "      <td>0</td>\n",
              "      <td>[netral, netral, netral, netral]</td>\n",
              "    </tr>\n",
              "    <tr>\n",
              "      <th>4</th>\n",
              "      <td>Thu Feb 15 13:00:01 +0000 2024</td>\n",
              "      <td>medcom_id</td>\n",
              "      <td>kpu tps potensi laku pungut suara susul</td>\n",
              "      <td>id</td>\n",
              "      <td>5</td>\n",
              "      <td>[netral, netral, positif, netral, netral, posi...</td>\n",
              "    </tr>\n",
              "    <tr>\n",
              "      <th>5</th>\n",
              "      <td>Thu Feb 15 13:05:00 +0000 2024</td>\n",
              "      <td>kompascom</td>\n",
              "      <td>anies konsisten gerak ubah ganjar hasil quick ...</td>\n",
              "      <td>id</td>\n",
              "      <td>8</td>\n",
              "      <td>[netral, netral, netral, netral, positif, posi...</td>\n",
              "    </tr>\n",
              "    <tr>\n",
              "      <th>6</th>\n",
              "      <td>Thu Feb 15 13:09:43 +0000 2024</td>\n",
              "      <td>officialntv_</td>\n",
              "      <td>respons ganjar hasil quick count suara pdip</td>\n",
              "      <td>id</td>\n",
              "      <td>13</td>\n",
              "      <td>[positif, positif, positif, netral, netral, po...</td>\n",
              "    </tr>\n",
              "    <tr>\n",
              "      <th>7</th>\n",
              "      <td>Thu Feb 15 09:00:02 +0000 2024</td>\n",
              "      <td>pinterpolitik</td>\n",
              "      <td>faktor nih prabowogibran menang share kolom ko...</td>\n",
              "      <td>id</td>\n",
              "      <td>4</td>\n",
              "      <td>[negatif, netral, netral, positif, netral, net...</td>\n",
              "    </tr>\n",
              "    <tr>\n",
              "      <th>8</th>\n",
              "      <td>Thu Feb 15 05:24:41 +0000 2024</td>\n",
              "      <td>cekfaktacom</td>\n",
              "      <td>cek fakta klik link cek fakta informasi saji yuk</td>\n",
              "      <td>id</td>\n",
              "      <td>-4</td>\n",
              "      <td>[negatif, negatif, netral, netral, negatif, ne...</td>\n",
              "    </tr>\n",
              "    <tr>\n",
              "      <th>9</th>\n",
              "      <td>Thu Feb 15 10:09:37 +0000 2024</td>\n",
              "      <td>ellandaroma</td>\n",
              "      <td>anjay mantan bupati pati periode suara jura ja...</td>\n",
              "      <td>id</td>\n",
              "      <td>0</td>\n",
              "      <td>[negatif, negatif, netral, positif, netral, po...</td>\n",
              "    </tr>\n",
              "    <tr>\n",
              "      <th>10</th>\n",
              "      <td>Thu Feb 15 23:44:00 +0000 2024</td>\n",
              "      <td>pinterpolitik</td>\n",
              "      <td>sepakat kritik jokowi poin kalah ganjar iris p...</td>\n",
              "      <td>id</td>\n",
              "      <td>-2</td>\n",
              "      <td>[positif, negatif, netral, positif, negatif, p...</td>\n",
              "    </tr>\n",
              "    <tr>\n",
              "      <th>11</th>\n",
              "      <td>Thu Feb 15 12:54:00 +0000 2024</td>\n",
              "      <td>officialntv_</td>\n",
              "      <td>bikin khawatir milu nyata bawa berkah pariwisa...</td>\n",
              "      <td>id</td>\n",
              "      <td>14</td>\n",
              "      <td>[netral, positif, netral, positif, positif, po...</td>\n",
              "    </tr>\n",
              "  </tbody>\n",
              "</table>\n",
              "</div>"
            ],
            "text/plain": [
              "                        created_at         username  \\\n",
              "1   Thu Feb 15 14:51:22 +0000 2024  republikaonline   \n",
              "3   Thu Feb 15 13:00:02 +0000 2024    pinterpolitik   \n",
              "4   Thu Feb 15 13:00:01 +0000 2024        medcom_id   \n",
              "5   Thu Feb 15 13:05:00 +0000 2024        kompascom   \n",
              "6   Thu Feb 15 13:09:43 +0000 2024     officialntv_   \n",
              "7   Thu Feb 15 09:00:02 +0000 2024    pinterpolitik   \n",
              "8   Thu Feb 15 05:24:41 +0000 2024      cekfaktacom   \n",
              "9   Thu Feb 15 10:09:37 +0000 2024      ellandaroma   \n",
              "10  Thu Feb 15 23:44:00 +0000 2024    pinterpolitik   \n",
              "11  Thu Feb 15 12:54:00 +0000 2024     officialntv_   \n",
              "\n",
              "                                            full_text Language  text_weight  \\\n",
              "1   anies misi bangun demokrasi indonesia junjung ...       id            0   \n",
              "3                            investasi nih hary tanoe       id            0   \n",
              "4             kpu tps potensi laku pungut suara susul       id            5   \n",
              "5   anies konsisten gerak ubah ganjar hasil quick ...       id            8   \n",
              "6         respons ganjar hasil quick count suara pdip       id           13   \n",
              "7   faktor nih prabowogibran menang share kolom ko...       id            4   \n",
              "8    cek fakta klik link cek fakta informasi saji yuk       id           -4   \n",
              "9   anjay mantan bupati pati periode suara jura ja...       id            0   \n",
              "10  sepakat kritik jokowi poin kalah ganjar iris p...       id           -2   \n",
              "11  bikin khawatir milu nyata bawa berkah pariwisa...       id           14   \n",
              "\n",
              "                                            sentiment  \n",
              "1   [netral, netral, netral, netral, netral, negat...  \n",
              "3                    [netral, netral, netral, netral]  \n",
              "4   [netral, netral, positif, netral, netral, posi...  \n",
              "5   [netral, netral, netral, netral, positif, posi...  \n",
              "6   [positif, positif, positif, netral, netral, po...  \n",
              "7   [negatif, netral, netral, positif, netral, net...  \n",
              "8   [negatif, negatif, netral, netral, negatif, ne...  \n",
              "9   [negatif, negatif, netral, positif, netral, po...  \n",
              "10  [positif, negatif, netral, positif, negatif, p...  \n",
              "11  [netral, positif, netral, positif, positif, po...  "
            ]
          },
          "execution_count": 21,
          "metadata": {},
          "output_type": "execute_result"
        }
      ],
      "source": [
        "def test_sentiment(data):\n",
        "    data['sentiment'] = data['full_text'].apply(lambda x: [determine_sentiment(word) for word in x.split()])\n",
        "    return data\n",
        "\n",
        "def calculate_text_weight(text):\n",
        "    total_weight = 0\n",
        "    words = text.split()\n",
        "    for word in words:\n",
        "        if word in word_weight_dict:\n",
        "            total_weight += word_weight_dict[word]\n",
        "    return total_weight\n",
        "\n",
        "data['text_weight'] = data['full_text'].apply(calculate_text_weight)\n",
        "\n",
        "data = test_sentiment(data)\n",
        "\n",
        "data.head(10)"
      ]
    },
    {
      "cell_type": "code",
      "execution_count": null,
      "metadata": {},
      "outputs": [],
      "source": [
        "data['class_sentiment'] = data['text_weight'].apply(lambda x: 'negatif' if x < 0 else ('positif' if x > 0 else 'netral'))"
      ]
    },
    {
      "cell_type": "code",
      "execution_count": null,
      "metadata": {},
      "outputs": [],
      "source": [
        "data['text_weight_label'] = data['text_weight'].apply(lambda x: -1 if x < 0 else (0 if x == 0 else 1))"
      ]
    },
    {
      "cell_type": "code",
      "execution_count": null,
      "metadata": {},
      "outputs": [
        {
          "data": {
            "text/html": [
              "<div>\n",
              "<style scoped>\n",
              "    .dataframe tbody tr th:only-of-type {\n",
              "        vertical-align: middle;\n",
              "    }\n",
              "\n",
              "    .dataframe tbody tr th {\n",
              "        vertical-align: top;\n",
              "    }\n",
              "\n",
              "    .dataframe thead th {\n",
              "        text-align: right;\n",
              "    }\n",
              "</style>\n",
              "<table border=\"1\" class=\"dataframe\">\n",
              "  <thead>\n",
              "    <tr style=\"text-align: right;\">\n",
              "      <th></th>\n",
              "      <th>created_at</th>\n",
              "      <th>full_text</th>\n",
              "      <th>text_weight</th>\n",
              "      <th>text_weight_label</th>\n",
              "      <th>class_sentiment</th>\n",
              "    </tr>\n",
              "  </thead>\n",
              "  <tbody>\n",
              "    <tr>\n",
              "      <th>1</th>\n",
              "      <td>Thu Feb 15 14:51:22 +0000 2024</td>\n",
              "      <td>anies misi bangun demokrasi indonesia junjung ...</td>\n",
              "      <td>0</td>\n",
              "      <td>0</td>\n",
              "      <td>netral</td>\n",
              "    </tr>\n",
              "    <tr>\n",
              "      <th>3</th>\n",
              "      <td>Thu Feb 15 13:00:02 +0000 2024</td>\n",
              "      <td>investasi nih hary tanoe</td>\n",
              "      <td>0</td>\n",
              "      <td>0</td>\n",
              "      <td>netral</td>\n",
              "    </tr>\n",
              "    <tr>\n",
              "      <th>4</th>\n",
              "      <td>Thu Feb 15 13:00:01 +0000 2024</td>\n",
              "      <td>kpu tps potensi laku pungut suara susul</td>\n",
              "      <td>5</td>\n",
              "      <td>1</td>\n",
              "      <td>positif</td>\n",
              "    </tr>\n",
              "    <tr>\n",
              "      <th>5</th>\n",
              "      <td>Thu Feb 15 13:05:00 +0000 2024</td>\n",
              "      <td>anies konsisten gerak ubah ganjar hasil quick ...</td>\n",
              "      <td>8</td>\n",
              "      <td>1</td>\n",
              "      <td>positif</td>\n",
              "    </tr>\n",
              "    <tr>\n",
              "      <th>6</th>\n",
              "      <td>Thu Feb 15 13:09:43 +0000 2024</td>\n",
              "      <td>respons ganjar hasil quick count suara pdip</td>\n",
              "      <td>13</td>\n",
              "      <td>1</td>\n",
              "      <td>positif</td>\n",
              "    </tr>\n",
              "    <tr>\n",
              "      <th>7</th>\n",
              "      <td>Thu Feb 15 09:00:02 +0000 2024</td>\n",
              "      <td>faktor nih prabowogibran menang share kolom ko...</td>\n",
              "      <td>4</td>\n",
              "      <td>1</td>\n",
              "      <td>positif</td>\n",
              "    </tr>\n",
              "    <tr>\n",
              "      <th>8</th>\n",
              "      <td>Thu Feb 15 05:24:41 +0000 2024</td>\n",
              "      <td>cek fakta klik link cek fakta informasi saji yuk</td>\n",
              "      <td>-4</td>\n",
              "      <td>-1</td>\n",
              "      <td>negatif</td>\n",
              "    </tr>\n",
              "    <tr>\n",
              "      <th>9</th>\n",
              "      <td>Thu Feb 15 10:09:37 +0000 2024</td>\n",
              "      <td>anjay mantan bupati pati periode suara jura ja...</td>\n",
              "      <td>0</td>\n",
              "      <td>0</td>\n",
              "      <td>netral</td>\n",
              "    </tr>\n",
              "    <tr>\n",
              "      <th>10</th>\n",
              "      <td>Thu Feb 15 23:44:00 +0000 2024</td>\n",
              "      <td>sepakat kritik jokowi poin kalah ganjar iris p...</td>\n",
              "      <td>-2</td>\n",
              "      <td>-1</td>\n",
              "      <td>negatif</td>\n",
              "    </tr>\n",
              "    <tr>\n",
              "      <th>11</th>\n",
              "      <td>Thu Feb 15 12:54:00 +0000 2024</td>\n",
              "      <td>bikin khawatir milu nyata bawa berkah pariwisa...</td>\n",
              "      <td>14</td>\n",
              "      <td>1</td>\n",
              "      <td>positif</td>\n",
              "    </tr>\n",
              "  </tbody>\n",
              "</table>\n",
              "</div>"
            ],
            "text/plain": [
              "                        created_at  \\\n",
              "1   Thu Feb 15 14:51:22 +0000 2024   \n",
              "3   Thu Feb 15 13:00:02 +0000 2024   \n",
              "4   Thu Feb 15 13:00:01 +0000 2024   \n",
              "5   Thu Feb 15 13:05:00 +0000 2024   \n",
              "6   Thu Feb 15 13:09:43 +0000 2024   \n",
              "7   Thu Feb 15 09:00:02 +0000 2024   \n",
              "8   Thu Feb 15 05:24:41 +0000 2024   \n",
              "9   Thu Feb 15 10:09:37 +0000 2024   \n",
              "10  Thu Feb 15 23:44:00 +0000 2024   \n",
              "11  Thu Feb 15 12:54:00 +0000 2024   \n",
              "\n",
              "                                            full_text  text_weight  \\\n",
              "1   anies misi bangun demokrasi indonesia junjung ...            0   \n",
              "3                            investasi nih hary tanoe            0   \n",
              "4             kpu tps potensi laku pungut suara susul            5   \n",
              "5   anies konsisten gerak ubah ganjar hasil quick ...            8   \n",
              "6         respons ganjar hasil quick count suara pdip           13   \n",
              "7   faktor nih prabowogibran menang share kolom ko...            4   \n",
              "8    cek fakta klik link cek fakta informasi saji yuk           -4   \n",
              "9   anjay mantan bupati pati periode suara jura ja...            0   \n",
              "10  sepakat kritik jokowi poin kalah ganjar iris p...           -2   \n",
              "11  bikin khawatir milu nyata bawa berkah pariwisa...           14   \n",
              "\n",
              "    text_weight_label class_sentiment  \n",
              "1                   0          netral  \n",
              "3                   0          netral  \n",
              "4                   1         positif  \n",
              "5                   1         positif  \n",
              "6                   1         positif  \n",
              "7                   1         positif  \n",
              "8                  -1         negatif  \n",
              "9                   0          netral  \n",
              "10                 -1         negatif  \n",
              "11                  1         positif  "
            ]
          },
          "execution_count": 24,
          "metadata": {},
          "output_type": "execute_result"
        }
      ],
      "source": [
        "data = data[['created_at', 'full_text', 'text_weight', 'text_weight_label', 'class_sentiment']]\n",
        "\n",
        "data.head(10)\n"
      ]
    },
    {
      "cell_type": "code",
      "execution_count": null,
      "metadata": {},
      "outputs": [],
      "source": [
        "data.to_csv('data.csv', index=False)"
      ]
    },
    {
      "cell_type": "code",
      "execution_count": null,
      "metadata": {},
      "outputs": [
        {
          "data": {
            "text/plain": [
              "(array([0, 1, 2]),\n",
              " [Text(0, 0, 'positif'), Text(1, 0, 'negatif'), Text(2, 0, 'netral')])"
            ]
          },
          "execution_count": 26,
          "metadata": {},
          "output_type": "execute_result"
        },
        {
          "data": {
            "image/png": "[encoded data removed]",
            "text/plain": [
              "<Figure size 640x480 with 1 Axes>"
            ]
          },
          "metadata": {},
          "output_type": "display_data"
        }
      ],
      "source": [
        "data['class_sentiment'].value_counts().plot(kind='bar')\n",
        "\n",
        "plt.xticks(rotation=0)"
      ]
    },
    {
      "cell_type": "code",
      "execution_count": null,
      "metadata": {},
      "outputs": [
        {
          "data": {
            "image/png": "[encoded data removed]",
            "text/plain": [
              "<Figure size 800x600 with 1 Axes>"
            ]
          },
          "metadata": {},
          "output_type": "display_data"
        }
      ],
      "source": [
        "plt.figure(figsize=(8, 6))\n",
        "plt.hist(data['text_weight'], bins=30, color='skyblue', edgecolor='black')\n",
        "plt.title('Histogram dari Nilai Bobot dalam Kolom \"text_weight\"')\n",
        "plt.xlabel('Nilai Bobot')\n",
        "plt.ylabel('Frekuensi')\n",
        "plt.grid(True)\n",
        "plt.show()"
      ]
    },
    {
      "cell_type": "markdown",
      "metadata": {},
      "source": [
        "## Train and Test Split"
      ]
    },
    {
      "cell_type": "code",
      "execution_count": null,
      "metadata": {},
      "outputs": [],
      "source": [
        "Train_X, Test_X, Train_Y, Test_Y = train_test_split(data['full_text'], data['text_weight_label'], test_size=0.3, shuffle=True)"
      ]
    },
    {
      "cell_type": "code",
      "execution_count": null,
      "metadata": {},
      "outputs": [
        {
          "name": "stdout",
          "output_type": "stream",
          "text": [
            "[[   0    0    0 ...  250  199  192]\n",
            " [   0    0    0 ...  270 1244 1245]\n",
            " [   0    0    0 ...   56    6  756]\n",
            " ...\n",
            " [   0    0    0 ...  333 1431    2]\n",
            " [   0    0    0 ...   93   42    2]\n",
            " [   0    0    0 ... 1020    2  218]]\n"
          ]
        }
      ],
      "source": [
        "tokenizer = Tokenizer(num_words=5000, oov_token='x', filters='!\"#$%&()*+,-./:;<=>@[\\]^_`{|}~ ')\n",
        "\n",
        "tokenizer.fit_on_texts(data['full_text'])\n",
        "\n",
        "# Konversi teks menjadi sequence\n",
        "data_sequences = tokenizer.texts_to_sequences(data['full_text'])\n",
        "\n",
        "padded_train = pad_sequences(data_sequences)\n",
        "\n",
        "# Menampilkan hasil sequence\n",
        "print(padded_train)\n",
        "\n",
        "# tokenizer.fit_on_texts(Train_X)\n",
        "# tokenizer.fit_on_texts(Test_X)\n",
        "\n",
        "# sekuens_train = tokenizer.texts_to_sequences(Train_X)\n",
        "# sekuens_test = tokenizer.texts_to_sequences(Test_X)\n",
        "\n",
        "# padded_train = pad_sequences(sekuens_train)\n",
        "# padded_test = pad_sequences(sekuens_test)"
      ]
    },
    {
      "cell_type": "code",
      "execution_count": null,
      "metadata": {},
      "outputs": [
        {
          "name": "stdout",
          "output_type": "stream",
          "text": [
            "Jumlah data dalam train set: 1309\n",
            "Jumlah data dalam validation set: 561\n",
            "Jumlah data dalam train set: 1309\n",
            "Jumlah data dalam validation set: 561\n"
          ]
        }
      ],
      "source": [
        "print(f'Jumlah data dalam train set: {len(Train_X)}')\n",
        "print(f'Jumlah data dalam validation set: {len(Test_X)}')\n",
        "print(f'Jumlah data dalam train set: {len(Train_Y)}')\n",
        "print(f'Jumlah data dalam validation set: {len(Test_Y)}')"
      ]
    },
    {
      "cell_type": "code",
      "execution_count": null,
      "metadata": {},
      "outputs": [
        {
          "name": "stdout",
          "output_type": "stream",
          "text": [
            "1522    1\n",
            "741    -1\n",
            "1099    1\n",
            "803     1\n",
            "2057    1\n",
            "       ..\n",
            "1883    1\n",
            "1618    1\n",
            "981     1\n",
            "779    -1\n",
            "1387    1\n",
            "Name: text_weight_label, Length: 1309, dtype: int64\n"
          ]
        }
      ],
      "source": [
        "print(Train_Y)"
      ]
    },
    {
      "cell_type": "markdown",
      "metadata": {},
      "source": [
        "## Vectorization"
      ]
    },
    {
      "cell_type": "code",
      "execution_count": null,
      "metadata": {},
      "outputs": [],
      "source": [
        "Encoder = LabelEncoder()\n",
        "\n",
        "Train_Y = Encoder.fit_transform(Train_Y)\n",
        "Test_Y = Encoder.fit_transform(Test_Y)"
      ]
    },
    {
      "cell_type": "code",
      "execution_count": null,
      "metadata": {},
      "outputs": [
        {
          "name": "stdout",
          "output_type": "stream",
          "text": [
            "[2 0 2 ... 2 0 2]\n"
          ]
        }
      ],
      "source": [
        "print(Train_Y)"
      ]
    },
    {
      "cell_type": "code",
      "execution_count": null,
      "metadata": {},
      "outputs": [
        {
          "data": {
            "text/plain": [
              "1522    nama pasang prabowo subianto gibran rakabuming...\n",
              "741     musnah surat suara milu buleleng singaraja kom...\n",
              "1099    pbnu izin kelola tambang hubung imbal bantu pr...\n",
              "803     hai yuk unggah foto seru hak pilih unggah foto...\n",
              "2057    milu presden sender arti nyoblos eh iya ktp ny...\n",
              "Name: full_text, dtype: object"
            ]
          },
          "execution_count": 34,
          "metadata": {},
          "output_type": "execute_result"
        }
      ],
      "source": [
        "Tfidf_vect = TfidfVectorizer(max_features=5000)\n",
        "Tfidf_vect.fit(data['full_text'])\n",
        "\n",
        "Train_X_Tfidf = Tfidf_vect.transform(Train_X)\n",
        "Test_X_Tfidf = Tfidf_vect.transform(Test_X)\n",
        "Train_X.head()"
      ]
    },
    {
      "cell_type": "markdown",
      "metadata": {},
      "source": [
        "## Klasifikasi"
      ]
    },
    {
      "cell_type": "code",
      "execution_count": null,
      "metadata": {},
      "outputs": [
        {
          "data": {
            "text/html": [
              "<style>#sk-container-id-1 {color: black;background-color: white;}#sk-container-id-1 pre{padding: 0;}#sk-container-id-1 div.sk-toggleable {background-color: white;}#sk-container-id-1 label.sk-toggleable__label {cursor: pointer;display: block;width: 100%;margin-bottom: 0;padding: 0.3em;box-sizing: border-box;text-align: center;}#sk-container-id-1 label.sk-toggleable__label-arrow:before {content: \"▸\";float: left;margin-right: 0.25em;color: #696969;}#sk-container-id-1 label.sk-toggleable__label-arrow:hover:before {color: black;}#sk-container-id-1 div.sk-estimator:hover label.sk-toggleable__label-arrow:before {color: black;}#sk-container-id-1 div.sk-toggleable__content {max-height: 0;max-width: 0;overflow: hidden;text-align: left;background-color: #f0f8ff;}#sk-container-id-1 div.sk-toggleable__content pre {margin: 0.2em;color: black;border-radius: 0.25em;background-color: #f0f8ff;}#sk-container-id-1 input.sk-toggleable__control:checked~div.sk-toggleable__content {max-height: 200px;max-width: 100%;overflow: auto;}#sk-container-id-1 input.sk-toggleable__control:checked~label.sk-toggleable__label-arrow:before {content: \"▾\";}#sk-container-id-1 div.sk-estimator input.sk-toggleable__control:checked~label.sk-toggleable__label {background-color: #d4ebff;}#sk-container-id-1 div.sk-label input.sk-toggleable__control:checked~label.sk-toggleable__label {background-color: #d4ebff;}#sk-container-id-1 input.sk-hidden--visually {border: 0;clip: rect(1px 1px 1px 1px);clip: rect(1px, 1px, 1px, 1px);height: 1px;margin: -1px;overflow: hidden;padding: 0;position: absolute;width: 1px;}#sk-container-id-1 div.sk-estimator {font-family: monospace;background-color: #f0f8ff;border: 1px dotted black;border-radius: 0.25em;box-sizing: border-box;margin-bottom: 0.5em;}#sk-container-id-1 div.sk-estimator:hover {background-color: #d4ebff;}#sk-container-id-1 div.sk-parallel-item::after {content: \"\";width: 100%;border-bottom: 1px solid gray;flex-grow: 1;}#sk-container-id-1 div.sk-label:hover label.sk-toggleable__label {background-color: #d4ebff;}#sk-container-id-1 div.sk-serial::before {content: \"\";position: absolute;border-left: 1px solid gray;box-sizing: border-box;top: 0;bottom: 0;left: 50%;z-index: 0;}#sk-container-id-1 div.sk-serial {display: flex;flex-direction: column;align-items: center;background-color: white;padding-right: 0.2em;padding-left: 0.2em;position: relative;}#sk-container-id-1 div.sk-item {position: relative;z-index: 1;}#sk-container-id-1 div.sk-parallel {display: flex;align-items: stretch;justify-content: center;background-color: white;position: relative;}#sk-container-id-1 div.sk-item::before, #sk-container-id-1 div.sk-parallel-item::before {content: \"\";position: absolute;border-left: 1px solid gray;box-sizing: border-box;top: 0;bottom: 0;left: 50%;z-index: -1;}#sk-container-id-1 div.sk-parallel-item {display: flex;flex-direction: column;z-index: 1;position: relative;background-color: white;}#sk-container-id-1 div.sk-parallel-item:first-child::after {align-self: flex-end;width: 50%;}#sk-container-id-1 div.sk-parallel-item:last-child::after {align-self: flex-start;width: 50%;}#sk-container-id-1 div.sk-parallel-item:only-child::after {width: 0;}#sk-container-id-1 div.sk-dashed-wrapped {border: 1px dashed gray;margin: 0 0.4em 0.5em 0.4em;box-sizing: border-box;padding-bottom: 0.4em;background-color: white;}#sk-container-id-1 div.sk-label label {font-family: monospace;font-weight: bold;display: inline-block;line-height: 1.2em;}#sk-container-id-1 div.sk-label-container {text-align: center;}#sk-container-id-1 div.sk-container {/* jupyter's `normalize.less` sets `[hidden] { display: none; }` but bootstrap.min.css set `[hidden] { display: none !important; }` so we also need the `!important` here to be able to override the default hidden behavior on the sphinx rendered scikit-learn.org. See: https://github.com/scikit-learn/scikit-learn/issues/21755 */display: inline-block !important;position: relative;}#sk-container-id-1 div.sk-text-repr-fallback {display: none;}</style><div id=\"sk-container-id-1\" class=\"sk-top-container\"><div class=\"sk-text-repr-fallback\"><pre>MultinomialNB()</pre><b>In a Jupyter environment, please rerun this cell to show the HTML representation or trust the notebook. <br />On GitHub, the HTML representation is unable to render, please try loading this page with nbviewer.org.</b></div><div class=\"sk-container\" hidden><div class=\"sk-item\"><div class=\"sk-estimator sk-toggleable\"><input class=\"sk-toggleable__control sk-hidden--visually\" id=\"sk-estimator-id-1\" type=\"checkbox\" checked><label for=\"sk-estimator-id-1\" class=\"sk-toggleable__label sk-toggleable__label-arrow\">MultinomialNB</label><div class=\"sk-toggleable__content\"><pre>MultinomialNB()</pre></div></div></div></div></div>"
            ],
            "text/plain": [
              "MultinomialNB()"
            ]
          },
          "execution_count": 35,
          "metadata": {},
          "output_type": "execute_result"
        }
      ],
      "source": [
        "Naive = naive_bayes.MultinomialNB()\n",
        "Naive.fit(Train_X_Tfidf, Train_Y)\n"
      ]
    },
    {
      "cell_type": "markdown",
      "metadata": {},
      "source": [
        "## Evaluasi"
      ]
    },
    {
      "cell_type": "code",
      "execution_count": null,
      "metadata": {},
      "outputs": [
        {
          "name": "stdout",
          "output_type": "stream",
          "text": [
            "[[ 23   2   2]\n",
            " [  0   0   0]\n",
            " [111  45 378]]\n",
            "Classification:                precision    recall  f1-score   support\n",
            "\n",
            "           0       0.85      0.17      0.29       134\n",
            "           1       0.00      0.00      0.00        47\n",
            "           2       0.71      0.99      0.83       380\n",
            "\n",
            "    accuracy                           0.71       561\n",
            "   macro avg       0.52      0.39      0.37       561\n",
            "weighted avg       0.68      0.71      0.63       561\n",
            "\n"
          ]
        },
        {
          "name": "stderr",
          "output_type": "stream",
          "text": [
            "c:\\Users\\asus.LAPTOP-P9TBK6TS.000\\anaconda3\\Lib\\site-packages\\sklearn\\metrics\\_classification.py:1344: UndefinedMetricWarning: Precision and F-score are ill-defined and being set to 0.0 in labels with no predicted samples. Use `zero_division` parameter to control this behavior.\n",
            "  _warn_prf(average, modifier, msg_start, len(result))\n",
            "c:\\Users\\asus.LAPTOP-P9TBK6TS.000\\anaconda3\\Lib\\site-packages\\sklearn\\metrics\\_classification.py:1344: UndefinedMetricWarning: Precision and F-score are ill-defined and being set to 0.0 in labels with no predicted samples. Use `zero_division` parameter to control this behavior.\n",
            "  _warn_prf(average, modifier, msg_start, len(result))\n",
            "c:\\Users\\asus.LAPTOP-P9TBK6TS.000\\anaconda3\\Lib\\site-packages\\sklearn\\metrics\\_classification.py:1344: UndefinedMetricWarning: Precision and F-score are ill-defined and being set to 0.0 in labels with no predicted samples. Use `zero_division` parameter to control this behavior.\n",
            "  _warn_prf(average, modifier, msg_start, len(result))\n"
          ]
        }
      ],
      "source": [
        "predictions_NB = Naive.predict(Test_X_Tfidf)\n",
        "\n",
        "print(confusion_matrix(predictions_NB,Test_Y))\n",
        "print (\"Classification: \",classification_report(Test_Y,predictions_NB))"
      ]
    },
    {
      "cell_type": "code",
      "execution_count": null,
      "metadata": {},
      "outputs": [
        {
          "name": "stdout",
          "output_type": "stream",
          "text": [
            "Naive Bayes Accuracy Score ->  0.714795008912656\n"
          ]
        }
      ],
      "source": [
        "print(\"Naive Bayes Accuracy Score -> \", accuracy_score(predictions_NB, Test_Y))"
      ]
    },
    {
      "cell_type": "code",
      "execution_count": null,
      "metadata": {},
      "outputs": [
        {
          "data": {
            "text/plain": [
              "<sklearn.metrics._plot.confusion_matrix.ConfusionMatrixDisplay at 0x1a4f231a990>"
            ]
          },
          "execution_count": 38,
          "metadata": {},
          "output_type": "execute_result"
        },
        {
          "data": {
            "image/png": "[encoded data removed]",
            "text/plain": [
              "<Figure size 640x480 with 2 Axes>"
            ]
          },
          "metadata": {},
          "output_type": "display_data"
        }
      ],
      "source": [
        "from sklearn.metrics import ConfusionMatrixDisplay\n",
        "\n",
        "cm = confusion_matrix(Test_Y, predictions_NB)\n",
        "cm = ConfusionMatrixDisplay(confusion_matrix = cm, display_labels=['Positif', 'Netral', 'Negatif'])\n",
        "cm.plot()"
      ]
    }
  ],
  "metadata": {
    "colab": {
      "provenance": []
    },
    "kernelspec": {
      "display_name": "Python 3",
      "name": "python3"
    },
    "language_info": {
      "codemirror_mode": {
        "name": "ipython",
        "version": 3
      },
      "file_extension": ".py",
      "mimetype": "text/x-python",
      "name": "python",
      "nbconvert_exporter": "python",
      "pygments_lexer": "ipython3",
      "version": "3.11.5"
    }
  },
  "nbformat": 4,
  "nbformat_minor": 0
}
